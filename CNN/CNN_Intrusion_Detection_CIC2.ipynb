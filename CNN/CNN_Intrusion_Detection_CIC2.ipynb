{
  "cells": [
    {
      "cell_type": "code",
      "execution_count": 32,
      "metadata": {
        "colab": {
          "base_uri": "https://localhost:8080/",
          "height": 34
        },
        "id": "kF7li9zoRpoI",
        "outputId": "8c7075c4-6f11-44ce-ac37-a73fc94f5c5d"
      },
      "outputs": [],
      "source": [
        "# from google.colab import drive\n",
        "import pandas as pd\n",
        "import numpy as np\n",
        "from sklearn.preprocessing import (StandardScaler, OrdinalEncoder,LabelEncoder, MinMaxScaler, OneHotEncoder)\n",
        "# !pip install -q keras\n",
        "# from keras.utils import to_categorical\n",
        "from tensorflow.keras.utils import to_categorical\n",
        "from sklearn.naive_bayes import GaussianNB\n",
        "from sklearn.feature_extraction.text import CountVectorizer\n",
        "from sklearn.preprocessing import Normalizer, MaxAbsScaler , RobustScaler, PowerTransformer\n",
        "import matplotlib.pyplot as plt\n",
        "import seaborn as sns\n",
        "\n",
        "\n",
        "\n",
        "\n",
        "# Specify the name of the output text file\n",
        "output_file_name = \"CNN_SHAP.txt\"\n",
        "with open(output_file_name, \"w\") as f: print('---------------------------------------------------------------------------------', file = f)\n",
        "\n",
        "###################################################\n",
        "###################################################\n",
        "###################################################\n",
        "# drive.mount('/content/drive')"
      ]
    },
    {
      "cell_type": "code",
      "execution_count": 33,
      "metadata": {},
      "outputs": [
        {
          "name": "stdout",
          "output_type": "stream",
          "text": [
            "---------------------------------------------------------------------------------\n",
            "Loading Databases\n",
            "---------------------------------------------------------------------------------\n",
            "\n"
          ]
        }
      ],
      "source": [
        "import pandas as pd\n",
        "\n",
        "req_cols = [' Destination Port',' Flow Duration',' Total Fwd Packets',' Total Backward Packets','Total Length of Fwd Packets',' Total Length of Bwd Packets',' Fwd Packet Length Max',' Fwd Packet Length Min',' Fwd Packet Length Mean',' Fwd Packet Length Std','Bwd Packet Length Max',' Bwd Packet Length Min',' Bwd Packet Length Mean',' Bwd Packet Length Std','Flow Bytes/s',' Flow Packets/s',' Flow IAT Mean',' Flow IAT Std',' Flow IAT Max',' Flow IAT Min','Fwd IAT Total',' Fwd IAT Mean',' Fwd IAT Std',' Fwd IAT Max',' Fwd IAT Min','Bwd IAT Total',' Bwd IAT Mean',' Bwd IAT Std',' Bwd IAT Max',' Bwd IAT Min','Fwd PSH Flags',' Bwd PSH Flags',' Fwd URG Flags',' Bwd URG Flags',' Fwd Header Length',' Bwd Header Length','Fwd Packets/s',' Bwd Packets/s',' Min Packet Length',' Max Packet Length',' Packet Length Mean',' Packet Length Std',' Packet Length Variance','FIN Flag Count',' SYN Flag Count',' RST Flag Count',' PSH Flag Count',' ACK Flag Count',' URG Flag Count',' CWE Flag Count',' ECE Flag Count',' Down/Up Ratio',' Average Packet Size',' Avg Fwd Segment Size',' Avg Bwd Segment Size',' Fwd Header Length','Fwd Avg Bytes/Bulk',' Fwd Avg Packets/Bulk',' Fwd Avg Bulk Rate',' Bwd Avg Bytes/Bulk',' Bwd Avg Packets/Bulk','Bwd Avg Bulk Rate','Subflow Fwd Packets',' Subflow Fwd Bytes',' Subflow Bwd Packets',' Subflow Bwd Bytes','Init_Win_bytes_forward',' Init_Win_bytes_backward',' act_data_pkt_fwd',' min_seg_size_forward','Active Mean',' Active Std',' Active Max',' Active Min','Idle Mean',' Idle Std',' Idle Max',' Idle Min',' Label']\n",
        "\n",
        "fraction = 1\n",
        "\n",
        "print('---------------------------------------------------------------------------------')\n",
        "print('Loading Databases')\n",
        "print('---------------------------------------------------------------------------------')\n",
        "print('')\n",
        "str = '/home/oarreche@ads.iu.edu/HITL/cicids/'\n",
        "\n",
        "df0 = pd.read_csv (str +'cicids_db/Wednesday-workingHours.pcap_ISCX.csv', usecols=req_cols).sample(frac = fraction)\n",
        "df1 = pd.read_csv (str +'cicids_db/Tuesday-WorkingHours.pcap_ISCX.csv', usecols=req_cols).sample(frac = fraction)\n",
        "df2 = pd.read_csv (str +'cicids_db/Thursday-WorkingHours-Morning-WebAttacks.pcap_ISCX.csv', usecols=req_cols).sample(frac = fraction)\n",
        "df3 = pd.read_csv (str +'cicids_db/Thursday-WorkingHours-Afternoon-Infilteration.pcap_ISCX.csv', usecols=req_cols).sample(frac = fraction)\n",
        "df4 = pd.read_csv (str +'cicids_db/Monday-WorkingHours.pcap_ISCX.csv', usecols=req_cols).sample(frac = fraction)\n",
        "df5 = pd.read_csv (str +'cicids_db/Friday-WorkingHours-Morning.pcap_ISCX.csv', usecols=req_cols).sample(frac = fraction)\n",
        "df6 = pd.read_csv (str +'cicids_db/Friday-WorkingHours-Afternoon-DDos.pcap_ISCX.csv', usecols=req_cols).sample(frac = fraction)\n",
        "df7 = pd.read_csv (str +'cicids_db/Friday-WorkingHours-Afternoon-PortScan.pcap_ISCX.csv', usecols=req_cols).sample(frac = fraction)\n",
        "\n",
        "frames = [df0, df1, df2, df3, df4, df5,df6, df7]\n",
        "\n",
        "df = pd.concat(frames,ignore_index=True)\n",
        "\n",
        "\n",
        "# df.pop(' PSH Flag Count')\n",
        "# df.pop(' ACK Flag Count')\n",
        "# df.pop(' Destination Port')\n",
        "# df.pop('Init_Win_bytes_forward')\n",
        "# df.pop(' Packet Length Std')\n",
        "# df.pop(' Average Packet Size')\n",
        "# df.pop(' Fwd IAT Max')\n",
        "# df.pop('Fwd IAT Total')\n",
        "# df.pop('Bwd IAT Total')\n",
        "# df.pop(' Packet Length Mean')\n",
        "# df.pop(' Flow Duration')\n",
        "# df.pop(' Flow IAT Max')\n",
        "# df.pop(' Bwd IAT Max')\n",
        "# df.pop(' Max Packet Length')\n",
        "# df.pop('Fwd Packets/s')\n",
        "# df.pop(' min_seg_size_forward')\n",
        "# df.pop('FIN Flag Count')\n",
        "# df.pop('Idle Mean')\n",
        "# df.pop(' Fwd IAT Std')\n",
        "# df.pop(' Fwd Packet Length Mean')\n",
        "# df.pop('Fwd PSH Flags')\n",
        "# df.pop(' Flow IAT Std')\n",
        "df.pop(' Down/Up Ratio')\n",
        "df.pop(' Fwd IAT Mean')\n",
        "df.pop(' Init_Win_bytes_backward')\n",
        "df.pop(' URG Flag Count')\n",
        "df.pop(' Bwd IAT Mean')\n",
        "df.pop(' SYN Flag Count')\n",
        "df.pop(' Idle Max')\n",
        "df.pop(' Idle Min')\n",
        "df.pop(' Idle Std')\n",
        "df.pop('Total Length of Fwd Packets')\n",
        "df.pop(' Subflow Fwd Bytes')\n",
        "\n",
        "features_to_remove = [\n",
        "    ' Packet Length Variance',\n",
        "    # ' Active Min',\n",
        "    # ' Flow IAT Mean',\n",
        "    ' Fwd Packet Length Std',\n",
        "    ' Fwd Packet Length Max',\n",
        "    ' Bwd Packet Length Mean',\n",
        "    # ' Bwd Packet Length Std',\n",
        "    # ' Active Max',\n",
        "    ' Active Std',\n",
        "    # ' Bwd Packet Length Min',\n",
        "    ' Bwd IAT Std',\n",
        "    ' Fwd IAT Min',\n",
        "    ' Fwd Packet Length Min',\n",
        "    # ' Bwd Packets/s',\n",
        "    'Bwd Packet Length Max',\n",
        "    ' Min Packet Length',\n",
        "    'Active Mean',\n",
        "    # ' Avg Bwd Segment Size',\n",
        "    # ' Avg Fwd Segment Size',\n",
        "    ' Total Backward Packets',\n",
        "    # ' Bwd IAT Min',\n",
        "    'Subflow Fwd Packets',\n",
        "    ' Flow IAT Min',\n",
        "    ' Fwd Header Length',\n",
        "    ' act_data_pkt_fwd',\n",
        "    ' Subflow Bwd Packets',\n",
        "    ' Bwd Header Length',\n",
        "    ' Total Fwd Packets',\n",
        "    ' Total Length of Bwd Packets',\n",
        "    ' Subflow Bwd Bytes',\n",
        "    'Fwd Avg Bytes/Bulk',\n",
        "    ' Fwd URG Flags',\n",
        "    ' Flow Packets/s',\n",
        "    'Flow Bytes/s',\n",
        "    ' CWE Flag Count',\n",
        "    ' Bwd PSH Flags',\n",
        "    ' Bwd URG Flags',\n",
        "    ' ECE Flag Count',\n",
        "    ' Fwd Avg Packets/Bulk',\n",
        "    'Bwd Avg Bulk Rate',\n",
        "    ' Bwd Avg Packets/Bulk',\n",
        "    ' Bwd Avg Bytes/Bulk',\n",
        "    ' Fwd Avg Bulk Rate',\n",
        "    ' RST Flag Count'\n",
        "]\n",
        "\n",
        "for feature in features_to_remove:\n",
        "    try:\n",
        "        df.pop(feature)\n",
        "    except KeyError:\n",
        "        print(f\"Feature '{feature}' not found in the dataframe.\")\n",
        "\n",
        "# Now, df has the desired features removed\n",
        "\n",
        "# df = df.sample(frac = 1)\n",
        "# df = pd.concat(frames,ignore_index=True)\n",
        "# df = df.sample(frac = fraction )\n",
        "y = df.pop(' Label')\n",
        "# y , v = pd.factorize(y)\n",
        "df = df.assign(Label = y)\n",
        "\n",
        "\n",
        "# Specify the name of the output text file\n",
        "# output_file_name = \"Wilcoxon_CIC.txt\"\n",
        "# with open(output_file_name, \"w\") as f: print('---------------------------------------------------------------------------------', file = f)\n",
        "###################################################\n",
        "###################################################\n",
        "###################################################\n",
        "###################################################\n"
      ]
    },
    {
      "cell_type": "code",
      "execution_count": 34,
      "metadata": {},
      "outputs": [
        {
          "name": "stdout",
          "output_type": "stream",
          "text": [
            "---------------------------------------------------------------------------------\n",
            "Reducing Normal rows\n",
            "---------------------------------------------------------------------------------\n",
            "\n",
            "---------------------------------------------------------------------------------\n",
            "Normalizing database\n",
            "---------------------------------------------------------------------------------\n",
            "\n",
            "Counter({6: 454619, 0: 380699, 5: 158930, 1: 13835, 2: 2180, 4: 1966, 3: 36})\n"
          ]
        }
      ],
      "source": [
        "from collections import Counter\n",
        "from sklearn.model_selection import train_test_split\n",
        "import sklearn\n",
        "print('---------------------------------------------------------------------------------')\n",
        "print('Reducing Normal rows')\n",
        "print('---------------------------------------------------------------------------------')\n",
        "print('')\n",
        "\n",
        "frac_normal = 0.2\n",
        "split = 0.8\n",
        "\n",
        "#filters\n",
        "filtered_normal = df[df['Label'] == 'BENIGN']\n",
        "\n",
        "#reduce\n",
        "reduced_normal = filtered_normal.sample(frac=frac_normal)\n",
        "\n",
        "#join\n",
        "df = pd.concat([df[df['Label'] != 'BENIGN'], reduced_normal])\n",
        "\n",
        "''' ---------------------------------------------------------------'''\n",
        "df_max_scaled = df.copy()\n",
        "\n",
        "\n",
        "y = df_max_scaled['Label'].replace({'DoS GoldenEye': 'Dos/Ddos', 'DoS Hulk': 'Dos/Ddos', 'DoS Slowhttptest': 'Dos/Ddos', 'DoS slowloris': 'Dos/Ddos', 'Heartbleed': 'Dos/Ddos', 'DDoS': 'Dos/Ddos','FTP-Patator': 'Brute Force', 'SSH-Patator': 'Brute Force','Web Attack - Brute Force': 'Web Attack', 'Web Attack - Sql Injection': 'Web Attack', 'Web Attack - XSS': 'Web Attack'})\n",
        "\n",
        "df_max_scaled.pop('Label')\n",
        "\n",
        "\n",
        "print('---------------------------------------------------------------------------------')\n",
        "print('Normalizing database')\n",
        "print('---------------------------------------------------------------------------------')\n",
        "print('')\n",
        "\n",
        "df_max_scaled\n",
        "for col in df_max_scaled.columns:\n",
        "    t = abs(df_max_scaled[col].max())\n",
        "    df_max_scaled[col] = df_max_scaled[col]/t\n",
        "df_max_scaled\n",
        "df = df_max_scaled.assign( Label = y)\n",
        "#df\n",
        "df = df.fillna(0)\n",
        "\n",
        "y = df.pop('Label')\n",
        "X = df\n",
        "y , v = pd.factorize(y)\n",
        "df = df.assign(Label = y)\n",
        "\n",
        "counter = Counter(y)\n",
        "print(counter)\n"
      ]
    },
    {
      "cell_type": "code",
      "execution_count": 35,
      "metadata": {},
      "outputs": [],
      "source": [
        "X_train,X_test, y_train, y_test = sklearn.model_selection.train_test_split(X, y, train_size=split,random_state=42)\n",
        "df = X.assign( ALERT = y)\n",
        "x_train,Y_train=X_train, y_train\n",
        "x_test,Y_test=X_test, y_test"
      ]
    },
    {
      "cell_type": "code",
      "execution_count": 36,
      "metadata": {
        "colab": {
          "base_uri": "https://localhost:8080/",
          "height": 119
        },
        "id": "B939ipnRiM7y",
        "outputId": "48b5d8b1-f412-4f46-8219-be4833f1c86e"
      },
      "outputs": [
        {
          "name": "stdout",
          "output_type": "stream",
          "text": [
            "(809812, 31)\n",
            "(809812,)\n",
            "(202453, 31)\n",
            "(202453,)\n"
          ]
        }
      ],
      "source": [
        "import numpy as np\n",
        "print(np.shape(x_train))\n",
        "print(np.shape(Y_train))\n",
        "print(np.shape(x_test))\n",
        "print(np.shape(Y_test))\n"
      ]
    },
    {
      "cell_type": "code",
      "execution_count": 37,
      "metadata": {},
      "outputs": [],
      "source": [
        "x_train = x_train.values\n",
        "x_train = np.reshape(x_train, (x_train.shape[0], x_train.shape[1], 1))\n",
        "# x_train.shape\n",
        "# x_train"
      ]
    },
    {
      "cell_type": "code",
      "execution_count": 38,
      "metadata": {
        "colab": {
          "base_uri": "https://localhost:8080/",
          "height": 34
        },
        "id": "xzDgJGguj3Iv",
        "outputId": "69cd9ada-81c7-4b6d-cfe5-869b2d980567"
      },
      "outputs": [
        {
          "data": {
            "text/plain": [
              "(202453, 31, 1)"
            ]
          },
          "execution_count": 38,
          "metadata": {},
          "output_type": "execute_result"
        }
      ],
      "source": [
        "x_test = x_test.values\n",
        "x_test = np.reshape(x_test, (x_test.shape[0], x_test.shape[1], 1))\n",
        "x_test.shape"
      ]
    },
    {
      "cell_type": "code",
      "execution_count": 39,
      "metadata": {},
      "outputs": [],
      "source": [
        "x_train2 = []\n",
        "for i in range(0,len(x_train)):\n",
        "    if i%10 == 0:\n",
        "        x_train2.append(x_train[i])\n",
        "        if len(x_train2) >= 1: break # change this line to select more samples"
      ]
    },
    {
      "cell_type": "code",
      "execution_count": 40,
      "metadata": {},
      "outputs": [],
      "source": [
        "x_test2 = []\n",
        "for i in range(0,len(x_test)):\n",
        "    if i%10 == 0:\n",
        "        x_test2.append(x_test[i])\n",
        "        if len(x_test2) >= 1: break # change this line to select more samples"
      ]
    },
    {
      "cell_type": "code",
      "execution_count": 41,
      "metadata": {},
      "outputs": [],
      "source": [
        "x_train2 = np.array(x_train2)\n",
        "x_test2 = np.array(x_test2)"
      ]
    },
    {
      "cell_type": "markdown",
      "metadata": {
        "id": "G6j5pHdf3lYt"
      },
      "source": [
        "# Model"
      ]
    },
    {
      "cell_type": "code",
      "execution_count": 42,
      "metadata": {
        "id": "Re8nmtgqj7Zw"
      },
      "outputs": [],
      "source": [
        "from keras.models import Sequential\n",
        "from keras.layers import Dense, LSTM, Dropout, SimpleRNN , GRU , Activation\n",
        "# from keras.layers.normalization import BatchNormalization\n",
        "from tensorflow.keras.layers import BatchNormalization\n",
        "from keras import optimizers\n",
        "import tensorflow as tf\n",
        "from keras.layers import Convolution1D, Dense, Dropout, Flatten, MaxPooling1D , AveragePooling1D"
      ]
    },
    {
      "cell_type": "code",
      "execution_count": 43,
      "metadata": {
        "id": "PZ2sIwlOkBXt"
      },
      "outputs": [],
      "source": [
        "model = Sequential()\n",
        "\n",
        "model.add(Convolution1D(32, 3, padding=\"same\",activation=\"relu\",input_shape = (x_train.shape[1], 1)))\n",
        "# model.add(Convolution1D(32, 3, activation=\"relu\"))\n",
        "model.add(MaxPooling1D(pool_size=(4)))\n",
        "# model.add(tf.keras.layers.LayerNormalization())\n",
        "# model.add(GRU(units = 128, return_sequences=True, input_shape = (x_train.shape[1], 1)))\n",
        "model.add(Dropout(0.5))\n",
        "\n",
        "model.add(Convolution1D(64, 3, padding=\"same\",activation=\"relu\"))\n",
        "# model.add(Convolution1D(64, 3,activation=\"relu\"))\n",
        "model.add(MaxPooling1D(pool_size=(2)))\n",
        "model.add(Dropout(0.5))\n",
        "# model.add(tf.keras.layers.LayerNormalization())\n",
        "\n",
        "# model.add(Convolution1D(64, 3, padding=\"same\",activation=\"relu\"))\n",
        "# model.add(Convolution1D(64, 3,activation=\"relu\"))\n",
        "# model.add(AveragePooling1D(pool_size=(2)))\n",
        "# model.add(Dropout(0.2))\n",
        "\n",
        "model.add(Flatten())\n",
        "model.add(Dense(256, activation=\"relu\"))\n",
        "model.add(Dropout(0.5))\n",
        "model.add(Dense(7, activation=\"softmax\"))\n",
        "# model.add(Dense(2, activation=\"softmax\"))"
      ]
    },
    {
      "cell_type": "code",
      "execution_count": 44,
      "metadata": {
        "id": "R85Adnd0jjh9"
      },
      "outputs": [
        {
          "data": {
            "text/plain": [
              "array([6, 0, 5, ..., 0, 6, 0])"
            ]
          },
          "execution_count": 44,
          "metadata": {},
          "output_type": "execute_result"
        }
      ],
      "source": [
        "from sklearn.model_selection import cross_validate\n",
        "from sklearn.model_selection import train_test_split\n",
        "Y_train"
      ]
    },
    {
      "cell_type": "code",
      "execution_count": 45,
      "metadata": {},
      "outputs": [
        {
          "name": "stdout",
          "output_type": "stream",
          "text": [
            "Epoch 1/100\n",
            "5062/5062 [==============================] - 42s 8ms/step - loss: 0.6244 - accuracy: 0.8578 - val_loss: 0.2006 - val_accuracy: 0.9260\n",
            "Epoch 2/100\n",
            "5062/5062 [==============================] - 41s 8ms/step - loss: 0.2423 - accuracy: 0.9107 - val_loss: 0.1550 - val_accuracy: 0.9494\n",
            "Epoch 3/100\n",
            "5062/5062 [==============================] - 41s 8ms/step - loss: 0.5165 - accuracy: 0.9231 - val_loss: 0.1366 - val_accuracy: 0.9554\n",
            "Epoch 4/100\n",
            "5062/5062 [==============================] - 41s 8ms/step - loss: 0.1928 - accuracy: 0.9301 - val_loss: 0.1233 - val_accuracy: 0.9591\n",
            "Epoch 5/100\n",
            "5062/5062 [==============================] - 41s 8ms/step - loss: 2.7249 - accuracy: 0.9358 - val_loss: 0.1149 - val_accuracy: 0.9570\n",
            "Epoch 6/100\n",
            "5062/5062 [==============================] - 41s 8ms/step - loss: 0.1674 - accuracy: 0.9398 - val_loss: 0.1013 - val_accuracy: 0.9669\n",
            "Epoch 7/100\n",
            "5062/5062 [==============================] - 41s 8ms/step - loss: 0.1596 - accuracy: 0.9428 - val_loss: 0.1005 - val_accuracy: 0.9634\n",
            "Epoch 8/100\n",
            "5062/5062 [==============================] - 41s 8ms/step - loss: 0.1542 - accuracy: 0.9449 - val_loss: 0.0926 - val_accuracy: 0.9695\n",
            "Epoch 9/100\n",
            "5062/5062 [==============================] - 41s 8ms/step - loss: 0.1509 - accuracy: 0.9467 - val_loss: 0.0942 - val_accuracy: 0.9702\n",
            "Epoch 10/100\n",
            "5062/5062 [==============================] - 41s 8ms/step - loss: 0.1474 - accuracy: 0.9478 - val_loss: 4.0121 - val_accuracy: 0.9708\n",
            "Epoch 11/100\n",
            "5062/5062 [==============================] - 41s 8ms/step - loss: 0.1438 - accuracy: 0.9493 - val_loss: 0.0869 - val_accuracy: 0.9704\n",
            "Epoch 12/100\n",
            "5062/5062 [==============================] - 41s 8ms/step - loss: 1.7324 - accuracy: 0.9504 - val_loss: 0.0875 - val_accuracy: 0.9712\n",
            "Epoch 13/100\n",
            "5062/5062 [==============================] - 41s 8ms/step - loss: 0.1406 - accuracy: 0.9509 - val_loss: 0.0832 - val_accuracy: 0.9711\n",
            "Epoch 14/100\n",
            "5062/5062 [==============================] - 41s 8ms/step - loss: 0.1366 - accuracy: 0.9522 - val_loss: 0.0826 - val_accuracy: 0.9712\n",
            "Epoch 15/100\n",
            "5062/5062 [==============================] - 41s 8ms/step - loss: 0.1366 - accuracy: 0.9524 - val_loss: 0.0874 - val_accuracy: 0.9703\n",
            "Epoch 16/100\n",
            "5062/5062 [==============================] - 41s 8ms/step - loss: 0.1356 - accuracy: 0.9530 - val_loss: 0.0866 - val_accuracy: 0.9695\n",
            "Epoch 17/100\n",
            "5062/5062 [==============================] - 41s 8ms/step - loss: 1.9942 - accuracy: 0.9531 - val_loss: 0.0868 - val_accuracy: 0.9700\n",
            "Epoch 18/100\n",
            "5062/5062 [==============================] - 41s 8ms/step - loss: 0.2294 - accuracy: 0.9534 - val_loss: 0.0841 - val_accuracy: 0.9704\n",
            "Epoch 19/100\n",
            "5062/5062 [==============================] - 42s 8ms/step - loss: 0.1336 - accuracy: 0.9538 - val_loss: 0.0829 - val_accuracy: 0.9707\n"
          ]
        },
        {
          "data": {
            "text/plain": [
              "<keras.callbacks.History at 0x7fecaa1e7f98>"
            ]
          },
          "execution_count": 45,
          "metadata": {},
          "output_type": "execute_result"
        }
      ],
      "source": [
        "from keras.callbacks import EarlyStopping\n",
        "\n",
        "# Define EarlyStopping callback\n",
        "early_stopping = EarlyStopping(monitor='val_accuracy', patience=5, restore_best_weights=True)\n",
        "\n",
        "# Compile the model\n",
        "# model.compile(optimizer='adam', loss='categorical_crossentropy', metrics=['accuracy'])\n",
        "model.compile(optimizer='adam', loss='sparse_categorical_crossentropy', metrics=['accuracy'])\n",
        "\n",
        "\n",
        "# Train the model with EarlyStopping callback\n",
        "model.fit(x_train, Y_train, epochs=100, batch_size=128, validation_split=0.2, callbacks=[early_stopping])\n",
        "\n",
        "# Save the trained model\n",
        "# model.save(\"CNN_CIC_1.h5\")\n",
        "# model = load_model(\"CNN_CIC_1.h5\")\n"
      ]
    },
    {
      "cell_type": "code",
      "execution_count": 46,
      "metadata": {},
      "outputs": [],
      "source": [
        "import joblib\n",
        "from keras.models import load_model\n",
        "# Save the data\n",
        "\n",
        "# joblib.dump(x_train2, 'x_train_cic.pkl')\n",
        "# x_train = joblib.load('x_train_cic.pkl')\n",
        "# model = load_model(\"CNN_CIC_1.h5\")\n",
        "\n",
        "# joblib.dump(x_train2, 'x_train2_cic.pkl')\n",
        "# x_train2 = joblib.load('x_train2_cic.pkl')"
      ]
    },
    {
      "cell_type": "code",
      "execution_count": 47,
      "metadata": {
        "colab": {
          "base_uri": "https://localhost:8080/",
          "height": 1000
        },
        "id": "xfRmnVr0KC5z",
        "outputId": "c16fbe13-3362-4921-bfed-e0ce9fdcd2be"
      },
      "outputs": [
        {
          "name": "stdout",
          "output_type": "stream",
          "text": [
            "('You must install pydot (`pip install pydot`) and install graphviz (see instructions at https://graphviz.gitlab.io/download/) ', 'for plot_model/model_to_dot to work.')\n"
          ]
        }
      ],
      "source": [
        "tf.keras.utils.plot_model(model, 'my_first_model.png', show_shapes=True)"
      ]
    },
    {
      "cell_type": "code",
      "execution_count": 48,
      "metadata": {
        "id": "DUIIh9uNkd26"
      },
      "outputs": [],
      "source": [
        "pred = model.predict(x_test)\n",
        "y_pred= np.argmax(pred, axis = 1)"
      ]
    },
    {
      "cell_type": "markdown",
      "metadata": {
        "id": "cYLdVuE8H2tZ"
      },
      "source": [
        "Evaluation of the model"
      ]
    },
    {
      "cell_type": "code",
      "execution_count": 49,
      "metadata": {
        "id": "GH3llzXYke4V"
      },
      "outputs": [
        {
          "data": {
            "text/plain": [
              "array([[75069,   112,     0,     0,     0,     0,  1061],\n",
              "       [   16,  2752,     0,     0,     0,     0,    15],\n",
              "       [    3,    40,     0,     0,     0,     0,   387],\n",
              "       [    0,     0,     0,     0,     0,     0,     7],\n",
              "       [    0,     0,     0,     0,   259,    11,   142],\n",
              "       [   30,     8,     0,     0,     0, 31287,   242],\n",
              "       [ 1310,   118,     0,     0,    63,  2229, 87292]])"
            ]
          },
          "execution_count": 49,
          "metadata": {},
          "output_type": "execute_result"
        }
      ],
      "source": [
        "from sklearn.metrics import confusion_matrix,accuracy_score\n",
        "from sklearn.metrics import (precision_score, recall_score,\n",
        "                             f1_score, accuracy_score,mean_squared_error,mean_absolute_error)\n",
        "confusion_matrix(Y_test, y_pred)"
      ]
    },
    {
      "cell_type": "code",
      "execution_count": 50,
      "metadata": {
        "colab": {
          "base_uri": "https://localhost:8080/",
          "height": 153
        },
        "id": "68ee-uYVIQMo",
        "outputId": "fbe79e7b-c9dc-45d8-e1e3-d4f301d3fe0c"
      },
      "outputs": [
        {
          "name": "stdout",
          "output_type": "stream",
          "text": [
            "97.13810118891793\n",
            "recall\n",
            "0.6503\n",
            "precision\n",
            "0.6582\n",
            "f1score\n",
            "0.6523325440434233\n"
          ]
        },
        {
          "name": "stderr",
          "output_type": "stream",
          "text": [
            "Precision is ill-defined and being set to 0.0 in labels with no predicted samples. Use `zero_division` parameter to control this behavior.\n"
          ]
        },
        {
          "name": "stdout",
          "output_type": "stream",
          "text": [
            "MMC 0.9549948443366449\n",
            "BACC 0.6503389634223209\n",
            "ROCAUC 0.997793838977515\n"
          ]
        }
      ],
      "source": [
        "from sklearn.metrics import balanced_accuracy_score\n",
        "from sklearn.metrics import matthews_corrcoef\n",
        "from sklearn.metrics import roc_auc_score\n",
        "\n",
        "accuracy =accuracy_score(Y_test, y_pred)*100\n",
        "print(accuracy)\n",
        "recall = recall_score(Y_test, y_pred , average=\"macro\")\n",
        "# recall = recall_score(y_21_test, y_pred , average=\"binary\")\n",
        "precision = precision_score(Y_test, y_pred , average=\"macro\")\n",
        "f1 = f1_score(Y_test, y_pred, average=\"macro\")\n",
        "print(\"recall\")\n",
        "print(\"%.4f\" %recall)\n",
        "print(\"precision\")\n",
        "print(\"%.4f\" %precision)\n",
        "print(\"f1score\")\n",
        "print(f1)\n",
        "print('MMC',matthews_corrcoef(Y_test, y_pred))\n",
        "print('BACC',balanced_accuracy_score(Y_test, y_pred))\n",
        "print('ROCAUC',roc_auc_score(Y_test, model.predict(x_test), multi_class='ovr'))"
      ]
    },
    {
      "cell_type": "code",
      "execution_count": 51,
      "metadata": {},
      "outputs": [
        {
          "name": "stderr",
          "output_type": "stream",
          "text": [
            "Your TensorFlow version is newer than 2.4.0 and so graph support has been removed in eager mode and some static graphs may not be supported. See PR #1483 for discussion.\n",
            "You have provided over 5k background samples! For better performance consider using smaller random sample.\n"
          ]
        }
      ],
      "source": [
        "#Shap\n",
        "\n",
        "import shap\n",
        "\n",
        "explainer = shap.DeepExplainer(model = model, data = x_train) #fast\n"
      ]
    },
    {
      "cell_type": "code",
      "execution_count": 52,
      "metadata": {},
      "outputs": [
        {
          "data": {
            "text/plain": [
              "array([[[2.48725852e-03],\n",
              "        [3.50000006e-07],\n",
              "        [0.00000000e+00],\n",
              "        [2.07182320e-03],\n",
              "        [0.00000000e+00],\n",
              "        [3.50000000e-07],\n",
              "        [0.00000000e+00],\n",
              "        [3.50000000e-07],\n",
              "        [0.00000000e+00],\n",
              "        [0.00000000e+00],\n",
              "        [0.00000000e+00],\n",
              "        [0.00000000e+00],\n",
              "        [0.00000000e+00],\n",
              "        [0.00000000e+00],\n",
              "        [0.00000000e+00],\n",
              "        [7.93650794e-03],\n",
              "        [1.19047619e-02],\n",
              "        [2.41740532e-04],\n",
              "        [7.70547945e-04],\n",
              "        [7.32132563e-04],\n",
              "        [0.00000000e+00],\n",
              "        [1.00000000e+00],\n",
              "        [0.00000000e+00],\n",
              "        [1.02739726e-03],\n",
              "        [0.00000000e+00],\n",
              "        [1.03439359e-03],\n",
              "        [4.45563439e-01],\n",
              "        [4.30107527e-01],\n",
              "        [0.00000000e+00],\n",
              "        [0.00000000e+00],\n",
              "        [0.00000000e+00]]])"
            ]
          },
          "execution_count": 52,
          "metadata": {},
          "output_type": "execute_result"
        }
      ],
      "source": [
        "x_test2"
      ]
    },
    {
      "cell_type": "code",
      "execution_count": 53,
      "metadata": {},
      "outputs": [
        {
          "name": "stdout",
          "output_type": "stream",
          "text": [
            "---------------------------------------------------------------------------------\n",
            "Training the SHAP\n",
            "---------------------------------------------------------------------------------\n",
            "\n"
          ]
        },
        {
          "name": "stderr",
          "output_type": "stream",
          "text": [
            "`tf.keras.backend.set_learning_phase` is deprecated and will be removed after 2020-10-11. To update it, simply pass a True/False value to the `training` argument of the `__call__` method of your layer or model.\n"
          ]
        },
        {
          "name": "stdout",
          "output_type": "stream",
          "text": [
            "---------------------------------------------------------------------------------\n",
            "ELAPSE TIME SHAP:  3.210591479142507 min\n",
            "---------------------------------------------------------------------------------\n",
            "\n"
          ]
        }
      ],
      "source": [
        "\n",
        "# shap_values = explainer.shap_values(x_test2) #takes time\n",
        "import time\n",
        "print('---------------------------------------------------------------------------------')\n",
        "print('Training the SHAP')\n",
        "print('---------------------------------------------------------------------------------')\n",
        "print('')\n",
        "\n",
        "start = time.time()\n",
        "shap_values = explainer.shap_values(x_test2)\n",
        "end = time.time()\n",
        "print('---------------------------------------------------------------------------------')\n",
        "print('ELAPSE TIME SHAP: ',(end - start)/60, 'min')\n",
        "print('---------------------------------------------------------------------------------')\n",
        "print('')"
      ]
    },
    {
      "cell_type": "code",
      "execution_count": 54,
      "metadata": {},
      "outputs": [
        {
          "name": "stdout",
          "output_type": "stream",
          "text": [
            "(1, 31)\n",
            "(7, 1, 31)\n"
          ]
        }
      ],
      "source": [
        "# x_test = np.reshape(x_test, (x_test.shape[0], x_test.shape[1], 1))\n",
        "# x_test.shape\n",
        "\n",
        "# Assuming x_test is the reshaped array\n",
        "x_test3 = np.squeeze(x_test2, axis=-1)\n",
        "\n",
        "# Display the shape of the original array\n",
        "print(x_test3.shape)\n",
        "\n",
        "# Assuming x_test is the reshaped array\n",
        "shap_values2 = np.squeeze(shap_values, axis=-1)\n",
        "\n",
        "# Display the shape of the original array\n",
        "print(shap_values2.shape)\n"
      ]
    },
    {
      "cell_type": "code",
      "execution_count": 55,
      "metadata": {},
      "outputs": [],
      "source": [
        "# Convert to pandas\n",
        "x_test3_df = pd.DataFrame(x_test3)\n",
        "# x_test3_df.shape\n",
        "# x_test3_df[:]"
      ]
    },
    {
      "cell_type": "code",
      "execution_count": 56,
      "metadata": {},
      "outputs": [
        {
          "name": "stdout",
          "output_type": "stream",
          "text": [
            "(7, 1, 31) (1, 31)\n"
          ]
        }
      ],
      "source": [
        "#Reverse arrays \n",
        "v1 = shap_values2.shape\n",
        "v2 = x_test3_df[:].shape\n",
        "print(v1,v2)"
      ]
    },
    {
      "cell_type": "code",
      "execution_count": 57,
      "metadata": {},
      "outputs": [
        {
          "name": "stdout",
          "output_type": "stream",
          "text": [
            "(1, 217)\n",
            "(1, 31)\n",
            "(1, 217)\n"
          ]
        }
      ],
      "source": [
        "# Reshape shap_values2 to have the shape (n_samples, n_features)\n",
        "shap_values_reshaped = shap_values2.reshape(v1[1], -1)\n",
        "print(shap_values_reshaped.shape)\n",
        "print(v2)\n",
        "print(shap_values_reshaped.shape)"
      ]
    },
    {
      "cell_type": "code",
      "execution_count": 58,
      "metadata": {},
      "outputs": [
        {
          "name": "stdout",
          "output_type": "stream",
          "text": [
            "(7, 1, 31) (1, 31)\n",
            "<class 'numpy.ndarray'> <class 'pandas.core.frame.DataFrame'>\n"
          ]
        }
      ],
      "source": [
        "v1 = shap_values2.shape\n",
        "v2 = x_test3_df[:].shape\n",
        "print(v1,v2)\n",
        "print(type(shap_values2),type(x_test3_df[:]))\n",
        "shap_values3 = list(shap_values2)\n",
        "u1 = list(v)"
      ]
    },
    {
      "cell_type": "code",
      "execution_count": 59,
      "metadata": {},
      "outputs": [],
      "source": [
        "column_names = X.columns.tolist()\n",
        "column_names\n",
        "df = x_test3_df\n",
        "df.rename(columns=dict(zip(df.columns, column_names)), inplace=True)"
      ]
    },
    {
      "cell_type": "code",
      "execution_count": 60,
      "metadata": {},
      "outputs": [
        {
          "data": {
            "image/png": "[encoded data removed]",
            "text/plain": [
              "<Figure size 576x684 with 1 Axes>"
            ]
          },
          "metadata": {
            "needs_background": "light"
          },
          "output_type": "display_data"
        }
      ],
      "source": [
        "\n",
        "shap.summary_plot(shap_values = shap_values3,\n",
        "                  features =  df, \n",
        "                  class_names = u1,\n",
        "                   plot_type=\"bar\")\n"
      ]
    },
    {
      "cell_type": "code",
      "execution_count": 61,
      "metadata": {},
      "outputs": [
        {
          "name": "stdout",
          "output_type": "stream",
          "text": [
            "                   col_name  feature_importance_vals\n",
            "26   Init_Win_bytes_forward                 0.499955\n",
            "4     Bwd Packet Length Std                 0.170671\n",
            "21           PSH Flag Count                 0.160674\n",
            "8             Fwd IAT Total                 0.158240\n",
            "15            Fwd Packets/s                 0.115409\n",
            "16            Bwd Packets/s                 0.097917\n",
            "7              Flow IAT Max                 0.060082\n",
            "3     Bwd Packet Length Min                 0.054029\n",
            "1             Flow Duration                 0.052524\n",
            "10              Fwd IAT Max                 0.045461\n",
            "14            Fwd PSH Flags                 0.043189\n",
            "18       Packet Length Mean                 0.040971\n",
            "20           FIN Flag Count                 0.032886\n",
            "11            Bwd IAT Total                 0.031799\n",
            "9               Fwd IAT Std                 0.027963\n",
            "25     Avg Bwd Segment Size                 0.027257\n",
            "0          Destination Port                 0.026775\n",
            "19        Packet Length Std                 0.021044\n",
            "2    Fwd Packet Length Mean                 0.010066\n",
            "27     min_seg_size_forward                 0.006125\n",
            "6              Flow IAT Std                 0.003694\n",
            "17        Max Packet Length                 0.001958\n",
            "12              Bwd IAT Max                 0.001699\n",
            "5             Flow IAT Mean                 0.001077\n",
            "24     Avg Fwd Segment Size                 0.000737\n",
            "13              Bwd IAT Min                 0.000490\n",
            "22           ACK Flag Count                 0.000481\n",
            "23      Average Packet Size                 0.000256\n",
            "28               Active Max                 0.000006\n",
            "29               Active Min                 0.000000\n",
            "30                Idle Mean                 0.000000\n",
            "---------------------------------------------------------------------------------\n",
            "df.pop(' Init_Win_bytes_forward ')\n",
            "df.pop('  Bwd Packet Length Std ')\n",
            "df.pop('  PSH Flag Count ')\n",
            "df.pop(' Fwd IAT Total ')\n",
            "df.pop(' Fwd Packets/s ')\n",
            "df.pop('  Bwd Packets/s ')\n",
            "df.pop('  Flow IAT Max ')\n",
            "df.pop('  Bwd Packet Length Min ')\n",
            "df.pop('  Flow Duration ')\n",
            "df.pop('  Fwd IAT Max ')\n",
            "df.pop(' Fwd PSH Flags ')\n",
            "df.pop('  Packet Length Mean ')\n",
            "df.pop(' FIN Flag Count ')\n",
            "df.pop(' Bwd IAT Total ')\n",
            "df.pop('  Fwd IAT Std ')\n",
            "df.pop('  Avg Bwd Segment Size ')\n",
            "df.pop('  Destination Port ')\n",
            "df.pop('  Packet Length Std ')\n",
            "df.pop('  Fwd Packet Length Mean ')\n",
            "df.pop('  min_seg_size_forward ')\n",
            "df.pop('  Flow IAT Std ')\n",
            "df.pop('  Max Packet Length ')\n",
            "df.pop('  Bwd IAT Max ')\n",
            "df.pop('  Flow IAT Mean ')\n",
            "df.pop('  Avg Fwd Segment Size ')\n",
            "df.pop('  Bwd IAT Min ')\n",
            "df.pop('  ACK Flag Count ')\n",
            "df.pop('  Average Packet Size ')\n",
            "df.pop('  Active Max ')\n",
            "df.pop('  Active Min ')\n",
            "df.pop(' Idle Mean ')\n",
            "' Init_Win_bytes_forward ',\n",
            "'  Bwd Packet Length Std ',\n",
            "'  PSH Flag Count ',\n",
            "' Fwd IAT Total ',\n",
            "' Fwd Packets/s ',\n",
            "'  Bwd Packets/s ',\n",
            "'  Flow IAT Max ',\n",
            "'  Bwd Packet Length Min ',\n",
            "'  Flow Duration ',\n",
            "'  Fwd IAT Max ',\n",
            "' Fwd PSH Flags ',\n",
            "'  Packet Length Mean ',\n",
            "' FIN Flag Count ',\n",
            "' Bwd IAT Total ',\n",
            "'  Fwd IAT Std ',\n",
            "'  Avg Bwd Segment Size ',\n",
            "'  Destination Port ',\n",
            "'  Packet Length Std ',\n",
            "'  Fwd Packet Length Mean ',\n",
            "'  min_seg_size_forward ',\n",
            "'  Flow IAT Std ',\n",
            "'  Max Packet Length ',\n",
            "'  Bwd IAT Max ',\n",
            "'  Flow IAT Mean ',\n",
            "'  Avg Fwd Segment Size ',\n",
            "'  Bwd IAT Min ',\n",
            "'  ACK Flag Count ',\n",
            "'  Average Packet Size ',\n",
            "'  Active Max ',\n",
            "'  Active Min ',\n",
            "' Idle Mean ',\n",
            "]\n",
            "---------------------------------------------------------------------------------\n"
          ]
        }
      ],
      "source": [
        "\n",
        "vals= np.abs(shap_values3).mean(1)\n",
        "feature_importance = pd.DataFrame(list(zip(df.columns, sum(vals))), columns=['col_name','feature_importance_vals'])\n",
        "feature_importance.sort_values(by=['feature_importance_vals'], ascending=False,inplace=True)\n",
        "feature_importance.head()\n",
        "print(feature_importance.to_string())\n",
        "\n",
        "\n",
        "\n",
        "print('---------------------------------------------------------------------------------')\n",
        "# feature_importance_vals = 'feature_importance_vals'  # Replace with the name of the column you want to extract\n",
        "feature_val = feature_importance['feature_importance_vals'].tolist()\n",
        "\n",
        "# col_name = 'col_name'  # Replace with the name of the column you want to extract\n",
        "feature_name = feature_importance['col_name'].tolist()\n",
        "\n",
        "\n",
        "# for item1, item2 in zip(feature_name, feature_val):\n",
        "#     print(item1, item2)\n",
        "\n",
        "\n",
        "# Use zip to combine the two lists, sort based on list1, and then unzip them\n",
        "zipped_lists = list(zip(feature_name, feature_val))\n",
        "zipped_lists.sort(key=lambda x: x[1],reverse=True)\n",
        "\n",
        "# Convert the sorted result back into separate lists\n",
        "sorted_list1, sorted_list2 = [list(x) for x in zip(*zipped_lists)]\n",
        "\n",
        "for k in sorted_list1:\n",
        "  with open(output_file_name, \"a\") as f:print(\"df.pop('\",k,\"')\", sep='',file = f)\n",
        "  print(\"df.pop('\",k,\"')\")\n",
        "\n",
        "for k in sorted_list1:\n",
        "  with open(output_file_name, \"a\") as f:print(\"'\",k,\"',\", sep='', file = f)\n",
        "  print(\"'\",k,\"',\")\n",
        "\n",
        "# with open(output_file_name, \"a\") as f:print(\"]\", file = f)\n",
        "print(\"]\")\n",
        "\n",
        "print('---------------------------------------------------------------------------------')\n",
        "\n",
        "\n",
        "\n",
        "\n",
        "# shap.summary_plot(shap_values = shap_values[0],\n",
        "#                  features = test[start_index:end_index],\n",
        "#                   class_names=[label[0],label[1],label[2],label[3],label[4],label[5],label[6]],show=False)\n",
        "\n",
        "\n",
        "# plt.savefig('DNN_Shap_Summary_Beeswarms.png')\n",
        "# plt.clf()\n"
      ]
    },
    {
      "cell_type": "code",
      "execution_count": 62,
      "metadata": {},
      "outputs": [
        {
          "name": "stdout",
          "output_type": "stream",
          "text": [
            "---------------------------------------------------------------------------------\n",
            "Generating Sparsity Graph\n",
            "---------------------------------------------------------------------------------\n",
            "\n",
            "Sparsity =  0.06451612903225806\n",
            "y_axis_RF =  [0.06451612903225806, 0.7096774193548387, 0.8387096774193549, 0.8709677419354839, 0.967741935483871, 0.967741935483871, 0.967741935483871, 0.967741935483871, 0.967741935483871, 0.967741935483871, 0.967741935483871]\n",
            "x_axis_RF =  [0.0, 0.1, 0.2, 0.3, 0.4, 0.5, 0.6, 0.7, 0.8, 0.9, 1.0]\n"
          ]
        },
        {
          "data": {
            "text/plain": [
              "<Figure size 432x288 with 0 Axes>"
            ]
          },
          "metadata": {},
          "output_type": "display_data"
        }
      ],
      "source": [
        "\n",
        "\n",
        "\n",
        "print('---------------------------------------------------------------------------------')\n",
        "print('Generating Sparsity Graph')\n",
        "print('---------------------------------------------------------------------------------')\n",
        "print('')\n",
        "\n",
        "# Find the minimum and maximum values in the list\n",
        "min_value = min(feature_val)\n",
        "max_value = max(feature_val)\n",
        "\n",
        "# Normalize the list to the range [0, 1]\n",
        "normalized_list = [(x - min_value) / (max_value - min_value) for x in feature_val]\n",
        "\n",
        "# print(feature_name,normalized_list,'\\n')\n",
        "# for item1, item2 in zip(feature_name, normalized_list):\n",
        "#     print(item1, item2)\n",
        "\n",
        "#calculating Sparsity\n",
        "\n",
        "# Define the threshold\n",
        "threshold = 1e-10\n",
        "\n",
        "# Initialize a count variable to keep track of values below the threshold\n",
        "count_below_threshold = 0\n",
        "\n",
        "# Iterate through the list and count values below the threshold\n",
        "for value in normalized_list:\n",
        "    if value < threshold:\n",
        "        count_below_threshold += 1\n",
        "\n",
        "Sparsity = count_below_threshold/len(normalized_list)\n",
        "Spar = []\n",
        "print('Sparsity = ',Sparsity)\n",
        "X_axis = []\n",
        "#----------------------------------------------------------------------------\n",
        "for i in range(0, 11):\n",
        "    i/10\n",
        "    threshold = i/10\n",
        "    for value in normalized_list:\n",
        "        if value < threshold:\n",
        "            count_below_threshold += 1\n",
        "\n",
        "    Sparsity = count_below_threshold/len(normalized_list)\n",
        "    Spar.append(Sparsity)\n",
        "    X_axis.append(i/10)\n",
        "    count_below_threshold = 0\n",
        "\n",
        "\n",
        "#---------------------------------------------------------------------------\n",
        "\n",
        "with open(output_file_name, \"a\") as f:print('y_axis_RF = ', Spar ,'', file = f)\n",
        "print('y_axis_RF = ', Spar )\n",
        "\n",
        "with open(output_file_name, \"a\") as f:print('x_axis_RF = ', X_axis ,'', file = f)\n",
        "print('x_axis_RF = ', X_axis )\n",
        "\n",
        "plt.clf()\n",
        "\n",
        "# Create a plot\n",
        "plt.plot(X_axis, Spar, marker='o', linestyle='-')\n",
        "\n",
        "# Set labels for the axes\n",
        "plt.xlabel('X-Axis')\n",
        "plt.ylabel('Y-Axis')\n",
        "\n",
        "# Set the title of the plot\n",
        "plt.title('Values vs. X-Axis')\n",
        "\n",
        "# Show the plot\n",
        "# plt.show()\n",
        "plt.savefig('sparsity.png')\n",
        "plt.clf()"
      ]
    }
  ],
  "metadata": {
    "accelerator": "GPU",
    "colab": {
      "collapsed_sections": [],
      "name": "CNN  Intrusion_Detection.ipynb",
      "provenance": []
    },
    "kernelspec": {
      "display_name": "Python 3",
      "name": "python3"
    },
    "language_info": {
      "codemirror_mode": {
        "name": "ipython",
        "version": 3
      },
      "file_extension": ".py",
      "mimetype": "text/x-python",
      "name": "python",
      "nbconvert_exporter": "python",
      "pygments_lexer": "ipython3",
      "version": "3.6.15"
    }
  },
  "nbformat": 4,
  "nbformat_minor": 0
}
