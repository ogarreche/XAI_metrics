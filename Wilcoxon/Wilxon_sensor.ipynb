{
 "cells": [
  {
   "cell_type": "code",
   "execution_count": 10,
   "metadata": {},
   "outputs": [
    {
     "name": "stdout",
     "output_type": "stream",
     "text": [
      "Loading Database\n",
      "--------------------------------------------------\n"
     ]
    }
   ],
   "source": [
    "import pandas as pd\n",
    "\n",
    "\n",
    "req_cols = ['FLOW_DURATION_MILLISECONDS','FIRST_SWITCHED',\n",
    "            'TOTAL_FLOWS_EXP','TCP_WIN_MSS_IN','LAST_SWITCHED',\n",
    "            'TCP_WIN_MAX_IN','TCP_WIN_MIN_IN','TCP_WIN_MIN_OUT',\n",
    "           'PROTOCOL','TCP_WIN_MAX_OUT','TCP_FLAGS',\n",
    "            'TCP_WIN_SCALE_OUT','TCP_WIN_SCALE_IN','SRC_TOS',\n",
    "            'DST_TOS','FLOW_ID','L4_SRC_PORT','L4_DST_PORT',\n",
    "           'MIN_IP_PKT_LEN','MAX_IP_PKT_LEN','TOTAL_PKTS_EXP',\n",
    "           'TOTAL_BYTES_EXP','IN_BYTES','IN_PKTS','OUT_BYTES','OUT_PKTS',\n",
    "            'ALERT']\n",
    "\n",
    "\n",
    "\n",
    "\n",
    " \n",
    "print('Loading Database')\n",
    "print('--------------------------------------------------')\n",
    "fraction = 0.3\n",
    "#Denial of Service\n",
    "df0 = pd.read_csv ('sensor_db/dos-03-15-2022-15-44-32.csv', usecols=req_cols).sample(frac = fraction)\n",
    "df1 = pd.read_csv ('sensor_db/dos-03-16-2022-13-45-18.csv', usecols=req_cols).sample(frac = fraction)\n",
    "df2 = pd.read_csv ('sensor_db/dos-03-17-2022-16-22-53.csv', usecols=req_cols).sample(frac = fraction)\n",
    "df3 = pd.read_csv ('sensor_db/dos-03-18-2022-19-27-05.csv', usecols=req_cols).sample(frac = fraction)\n",
    "df4 = pd.read_csv ('sensor_db/dos-03-19-2022-20-01-53.csv', usecols=req_cols).sample(frac = fraction)\n",
    "df5 = pd.read_csv ('sensor_db/dos-03-20-2022-14-27-54.csv', usecols=req_cols).sample(frac = fraction)\n",
    "#Malware\n",
    "#df6 = pd.read_csv ('sensor_db/malware-03-25-2022-17-57-07.csv', usecols=req_cols)\n",
    "#Normal\n",
    "df7 = pd.read_csv  ('sensor_db/normal-03-15-2022-15-43-44.csv', usecols=req_cols).sample(frac = fraction)\n",
    "df8 = pd.read_csv  ('sensor_db/normal-03-16-2022-13-44-27.csv', usecols=req_cols).sample(frac = fraction)\n",
    "df9 = pd.read_csv  ('sensor_db/normal-03-17-2022-16-21-30.csv', usecols=req_cols).sample(frac = fraction)\n",
    "df10 = pd.read_csv ('sensor_db/normal-03-18-2022-19-17-31.csv', usecols=req_cols).sample(frac = fraction)\n",
    "df11 = pd.read_csv ('sensor_db/normal-03-18-2022-19-25-48.csv', usecols=req_cols).sample(frac = fraction)\n",
    "df12 = pd.read_csv ('sensor_db/normal-03-19-2022-20-01-16.csv', usecols=req_cols).sample(frac = fraction)\n",
    "df13 = pd.read_csv ('sensor_db/normal-03-20-2022-14-27-30.csv', usecols=req_cols).sample(frac = fraction)\n",
    "\n",
    "#PortScanning\n",
    "df14 = pd.read_csv  ('sensor_db/portscanning-03-15-2022-15-44-06.csv', usecols=req_cols).sample(frac = fraction)\n",
    "df15 = pd.read_csv  ('sensor_db/portscanning-03-16-2022-13-44-50.csv', usecols=req_cols).sample(frac = fraction)\n",
    "df16 = pd.read_csv  ('sensor_db/portscanning-03-17-2022-16-22-53.csv', usecols=req_cols).sample(frac = fraction)\n",
    "df17 = pd.read_csv  ('sensor_db/portscanning-03-18-2022-19-27-05.csv', usecols=req_cols).sample(frac = fraction)\n",
    "df18 = pd.read_csv  ('sensor_db/portscanning-03-19-2022-20-01-45.csv', usecols=req_cols).sample(frac = fraction)\n",
    "df19 = pd.read_csv  ('sensor_db/portscanning-03-20-2022-14-27-49.csv', usecols=req_cols).sample(frac = fraction)\n",
    "\n",
    "frames = [df0, df1, df2, df3, df4, df5, df7, df8, df9, df10, df11, df12, df13, df14, df15, df16, df17, df18, df19]\n",
    "df = pd.concat(frames,ignore_index=True)\n",
    "\n",
    "# shuffle the DataFrame rows\n",
    "df = df.sample(frac =1)\n",
    "\n",
    "# assign alert column to y\n",
    "y = df.pop('ALERT')\n",
    "\n",
    "# join alert back to df\n",
    "df = df.assign( ALERT = y) \n",
    "\n",
    "#Fill NaN with 0s\n",
    "df = df.fillna(0)\n"
   ]
  },
  {
   "cell_type": "code",
   "execution_count": 11,
   "metadata": {},
   "outputs": [
    {
     "name": "stdout",
     "output_type": "stream",
     "text": [
      "---------------------------------------------------------------------------------\n",
      "Normalizing database\n",
      "---------------------------------------------------------------------------------\n",
      "\n"
     ]
    }
   ],
   "source": [
    "from collections import Counter\n",
    "from sklearn.model_selection import train_test_split\n",
    "import sklearn\n",
    "split = 0.8\n",
    "filtered_normal = df[df['ALERT'] == 'None']\n",
    "\n",
    "#reduce\n",
    "\n",
    "reduced_normal = filtered_normal.sample(frac=0.2)\n",
    "\n",
    "#join\n",
    "\n",
    "df = pd.concat([df[df['ALERT'] != 'None'], reduced_normal])\n",
    "\n",
    "\n",
    "# Normalize database\n",
    "print('---------------------------------------------------------------------------------')\n",
    "print('Normalizing database')\n",
    "print('---------------------------------------------------------------------------------')\n",
    "print('')\n",
    "\n",
    "# make a df copy\n",
    "df_max_scaled = df.copy()\n",
    "\n",
    "# assign alert column to y\n",
    "y = df_max_scaled.pop('ALERT')\n",
    "\n",
    "#Normalize operation\n",
    "for col in df_max_scaled.columns:\n",
    "    t = abs(df_max_scaled[col].max())\n",
    "    df_max_scaled[col] = df_max_scaled[col]/t\n",
    "df_max_scaled\n",
    "#assign df copy to df\n",
    "df = df_max_scaled.assign( ALERT = y)\n",
    "#Fill NaN with 0s\n",
    "df = df.fillna(0)\n",
    "\n",
    "y = df.pop('ALERT')\n",
    "X = df\n",
    "\n",
    "y, y_Label = pd.factorize(y)\n",
    "\n",
    "X_train,X_test, y_train, y_test = sklearn.model_selection.train_test_split(X, y, train_size=split,random_state=42)\n",
    "df = X.assign( ALERT = y)\n"
   ]
  },
  {
   "cell_type": "code",
   "execution_count": 12,
   "metadata": {},
   "outputs": [
    {
     "name": "stdout",
     "output_type": "stream",
     "text": [
      "---------------------------------------------------------------------------------\n",
      "Defining the RF model\n",
      "---------------------------------------------------------------------------------\n",
      "\n"
     ]
    }
   ],
   "source": [
    "#Model Parameters RF\n",
    "from sklearn.ensemble import RandomForestClassifier\n",
    "max_depth = 5\n",
    "n_estimators = 5\n",
    "min_samples_split = 2\n",
    "\n",
    "print('---------------------------------------------------------------------------------')\n",
    "print('Defining the RF model')\n",
    "print('---------------------------------------------------------------------------------')\n",
    "print('')\n",
    "\n",
    "rf = RandomForestClassifier(max_depth = max_depth,  n_estimators = n_estimators, min_samples_split = min_samples_split, n_jobs = -1)\n",
    "\n",
    "# model = clf.fit(X, y)"
   ]
  },
  {
   "cell_type": "code",
   "execution_count": 13,
   "metadata": {},
   "outputs": [],
   "source": [
    "#Model Parameters SVM\n",
    "from sklearn.kernel_approximation import RBFSampler\n",
    "from sklearn.linear_model import SGDClassifier\n",
    "\n",
    "max_iter=10\n",
    "loss='hinge'\n",
    "gamma=0.1\n",
    "\n",
    "\n",
    "rbf_feature = RBFSampler(gamma=gamma, random_state=1)\n",
    "X_features = rbf_feature.fit_transform(X_train)\n",
    "svm = SGDClassifier(max_iter=max_iter,loss=loss)\n",
    "# clf.fit(X_features, y_train)\n",
    "# clf.score(X_features, y_train)\n"
   ]
  },
  {
   "cell_type": "code",
   "execution_count": 14,
   "metadata": {},
   "outputs": [],
   "source": [
    "#Model Parameters ADA\n",
    "from sklearn.ensemble import AdaBoostClassifier\n",
    "n_estimators=100\n",
    "learning_rate=0.5\n",
    "\n",
    "ada = AdaBoostClassifier(n_estimators=n_estimators,learning_rate=learning_rate)\n"
   ]
  },
  {
   "cell_type": "code",
   "execution_count": 39,
   "metadata": {},
   "outputs": [],
   "source": [
    "\n",
    "# #Model Parameters DNN\n",
    "# import tensorflow as tf\n",
    "# dropout_rate = 0.01\n",
    "# nodes = 70\n",
    "# out_layer = 7\n",
    "# optimizer='adam'\n",
    "# loss='sparse_categorical_crossentropy'\n",
    "# epochs=5\n",
    "# batch_size=2*256\n",
    "\n",
    "\n",
    "# print('---------------------------------------------------------------------------------')\n",
    "# print('Defining the DNN model')\n",
    "# print('---------------------------------------------------------------------------------')\n",
    "# print('')\n",
    "\n",
    "\n",
    "# num_columns = X_train.shape[1]\n",
    "\n",
    "# dnn = tf.keras.Sequential()\n",
    "\n",
    "# # Input layer\n",
    "# dnn.add(tf.keras.Input(shape=(num_columns,)))\n",
    "\n",
    "# # Dense layers with dropout\n",
    "# dnn.add(tf.keras.layers.Dense(nodes))\n",
    "# dnn.add(tf.keras.layers.Dropout(dropout_rate))\n",
    "\n",
    "# dnn.add(tf.keras.layers.Dense(nodes))\n",
    "# dnn.add(tf.keras.layers.Dropout(dropout_rate))\n",
    "\n",
    "# dnn.add(tf.keras.layers.Dense(nodes))\n",
    "# dnn.add(tf.keras.layers.Dropout(dropout_rate))\n",
    "\n",
    "# dnn.add(tf.keras.layers.Dense(nodes))\n",
    "# dnn.add(tf.keras.layers.Dropout(dropout_rate))\n",
    "\n",
    "# dnn.add(tf.keras.layers.Dense(nodes))\n",
    "# dnn.add(tf.keras.layers.Dropout(dropout_rate))\n",
    "\n",
    "# # Output layer\n",
    "# dnn.add(tf.keras.layers.Dense(out_layer))\n",
    "\n",
    "\n",
    "\n",
    "# dnn.compile(optimizer=optimizer, loss=loss)\n",
    "\n",
    "# dnn.summary()\n",
    "\n",
    "import tensorflow as tf\n",
    "from scikeras.wrappers import KerasClassifier, KerasRegressor\n",
    "\n",
    "def getModel(optimizer):\n",
    "\n",
    "\n",
    "    num_columns = X_train.shape[1]\n",
    "\n",
    "    dnn = tf.keras.Sequential()\n",
    "\n",
    "    # Input layer\n",
    "    dnn.add(tf.keras.Input(shape=(num_columns,)))\n",
    "\n",
    "    # Dense layers with dropout\n",
    "    dnn.add(tf.keras.layers.Dense(nodes))\n",
    "    dnn.add(tf.keras.layers.Dropout(dropout_rate))\n",
    "\n",
    "    dnn.add(tf.keras.layers.Dense(nodes))\n",
    "    dnn.add(tf.keras.layers.Dropout(dropout_rate))\n",
    "\n",
    "    dnn.add(tf.keras.layers.Dense(nodes))\n",
    "    dnn.add(tf.keras.layers.Dropout(dropout_rate))\n",
    "\n",
    "    dnn.add(tf.keras.layers.Dense(nodes))\n",
    "    dnn.add(tf.keras.layers.Dropout(dropout_rate))\n",
    "\n",
    "    dnn.add(tf.keras.layers.Dense(nodes))\n",
    "    dnn.add(tf.keras.layers.Dropout(dropout_rate))\n",
    "\n",
    "    # Output layer\n",
    "    dnn.add(tf.keras.layers.Dense(out_layer))\n",
    "\n",
    "\n",
    "\n",
    "    dnn.compile(optimizer=optimizer, loss=loss)\n",
    "\n",
    "    return dnn\n",
    "\n",
    "\n",
    "#Model Parameters DNN\n",
    "dropout_rate = 0.01\n",
    "nodes = 70\n",
    "out_layer = 7\n",
    "optimizer='adam'\n",
    "loss='sparse_categorical_crossentropy'\n",
    "epochs=5\n",
    "batch_size=2*256\n",
    "# optimizer = ['Adam']\n",
    "epochs = [5]\n",
    "\n",
    "\n",
    "param_grid = dict(epochs=epochs, optimizer=optimizer)\n",
    "Kmodel = KerasClassifier(build_fn=getModel, verbose=1)"
   ]
  },
  {
   "cell_type": "code",
   "execution_count": 16,
   "metadata": {},
   "outputs": [],
   "source": [
    "#Model Parameters KNN\n",
    "from sklearn.neighbors import KNeighborsClassifier\n",
    "n_neighbors=5\n",
    "\n",
    "knn_clf=KNeighborsClassifier(n_neighbors=n_neighbors)"
   ]
  },
  {
   "cell_type": "code",
   "execution_count": 17,
   "metadata": {},
   "outputs": [],
   "source": [
    "#Model Parameters LGBM\n",
    "from lightgbm import LGBMClassifier\n",
    "from sklearn.model_selection import RepeatedStratifiedKFold\n",
    "from sklearn.model_selection import cross_val_score\n",
    "n_split= 3\n",
    "n_repeat= 15\n",
    "\n",
    "lgbm = LGBMClassifier()\n",
    "# cv = RepeatedStratifiedKFold(n_splits=n_split, n_repeats=n_repeat)\n",
    "# n_scores = cross_val_score(lgbm, X, y, scoring='accuracy', cv=cv, n_jobs=-1, error_score='raise')\n",
    "# fit the model on the whole dataset\n",
    "# lgbm = LGBMClassifier()\n",
    "\n"
   ]
  },
  {
   "cell_type": "code",
   "execution_count": 18,
   "metadata": {},
   "outputs": [],
   "source": [
    "#Model Parameters MLP\n",
    "from sklearn.neural_network import MLPClassifier\n",
    "max_iter=70\n",
    "# MLP = MLPClassifier(random_state=1, max_iter=max_iter).fit(X_train, y_train)\n",
    "MLP = MLPClassifier(random_state=42, max_iter=max_iter)"
   ]
  },
  {
   "cell_type": "code",
   "execution_count": 40,
   "metadata": {},
   "outputs": [
    {
     "name": "stderr",
     "output_type": "stream",
     "text": [
      "/home/oarreche@ads.iu.edu/anaconda3/envs/HITL/lib/python3.6/site-packages/sklearn/model_selection/_split.py:297: FutureWarning: Setting a random_state has no effect since shuffle is False. This will raise an error in 0.24. You should leave random_state to its default (None), or set shuffle=True.\n",
      "  FutureWarning\n"
     ]
    }
   ],
   "source": [
    "from scipy.stats import wilcoxon\n",
    "from sklearn.datasets import load_iris\n",
    "from sklearn.ensemble import ExtraTreesClassifier, RandomForestClassifier\n",
    "from sklearn.model_selection import cross_val_score, KFold\n",
    "\n",
    "# Prepare models and select your CV method\n",
    "# model1 = ExtraTreesClassifier()\n",
    "# model2 = RandomForestClassifier()\n",
    "model1 = svm\n",
    "model2 = rf\n",
    "model3 = ada\n",
    "model4 = Kmodel\n",
    "model5 = lgbm\n",
    "model6 = MLP\n",
    "model7 = knn_clf\n",
    "kf = KFold(n_splits=20, random_state=42)\n",
    "\n",
    "# Extract results for each model on the same folds\n",
    "# results_model1 = cross_val_score(model1, X, y, cv=kf)\n",
    "# results_model2 = cross_val_score(model2, X, y, cv=kf)\n",
    "# results_model3 = cross_val_score(model3, X, y, cv=kf)\n",
    "# results_model4 = cross_val_score(model4, X, y, cv=kf)\n",
    "# results_model5 = cross_val_score(model5, X, y, cv=kf)\n",
    "# results_model6 = cross_val_score(model6, X, y, cv=kf)\n",
    "# results_model7 = cross_val_score(model7, X, y, cv=kf)\n"
   ]
  },
  {
   "cell_type": "code",
   "execution_count": 21,
   "metadata": {},
   "outputs": [],
   "source": [
    "\n",
    "# Extract results for each model on the same folds\n",
    "results_model1 = cross_val_score(model1, X, y, cv=kf) #SVM\n",
    "results_model2 = cross_val_score(model2, X, y, cv=kf) # RF"
   ]
  },
  {
   "cell_type": "code",
   "execution_count": 22,
   "metadata": {},
   "outputs": [
    {
     "data": {
      "text/plain": [
       "1.9073486328125e-06"
      ]
     },
     "execution_count": 22,
     "metadata": {},
     "output_type": "execute_result"
    }
   ],
   "source": [
    "# Calculate p value\n",
    "#SVM and RF\n",
    "stat, p = wilcoxon(results_model1, results_model2, zero_method='zsplit'); p"
   ]
  },
  {
   "cell_type": "code",
   "execution_count": 23,
   "metadata": {},
   "outputs": [],
   "source": [
    "#ADA\n",
    "results_model3 = cross_val_score(model3, X, y, cv=kf)"
   ]
  },
  {
   "cell_type": "code",
   "execution_count": 24,
   "metadata": {},
   "outputs": [
    {
     "data": {
      "text/plain": [
       "1.9073486328125e-06"
      ]
     },
     "execution_count": 24,
     "metadata": {},
     "output_type": "execute_result"
    }
   ],
   "source": [
    "#SVM and ADA\n",
    "stat, p = wilcoxon(results_model1, results_model3,  zero_method='zsplit'); p"
   ]
  },
  {
   "cell_type": "code",
   "execution_count": 25,
   "metadata": {},
   "outputs": [
    {
     "data": {
      "text/plain": [
       "1.9073486328125e-06"
      ]
     },
     "execution_count": 25,
     "metadata": {},
     "output_type": "execute_result"
    }
   ],
   "source": [
    "#RF and ADA\n",
    "stat, p = wilcoxon(results_model2, results_model3,  zero_method='zsplit'); p"
   ]
  },
  {
   "cell_type": "code",
   "execution_count": 41,
   "metadata": {},
   "outputs": [
    {
     "name": "stderr",
     "output_type": "stream",
     "text": [
      "/home/oarreche@ads.iu.edu/anaconda3/envs/HITL/lib/python3.6/site-packages/scikeras/wrappers.py:290: UserWarning: ``build_fn`` will be renamed to ``model`` in a future release, at which point use of ``build_fn`` will raise an Error instead.\n",
      "  \"``build_fn`` will be renamed to ``model`` in a future release,\"\n",
      "/home/oarreche@ads.iu.edu/anaconda3/envs/HITL/lib/python3.6/site-packages/sklearn/model_selection/_validation.py:552: FitFailedWarning: Estimator fit failed. The score on this train-test partition for these parameters will be set to nan. Details: \n",
      "Traceback (most recent call last):\n",
      "  File \"/home/oarreche@ads.iu.edu/anaconda3/envs/HITL/lib/python3.6/site-packages/sklearn/model_selection/_validation.py\", line 531, in _fit_and_score\n",
      "    estimator.fit(X_train, y_train, **fit_params)\n",
      "  File \"/home/oarreche@ads.iu.edu/anaconda3/envs/HITL/lib/python3.6/site-packages/scikeras/wrappers.py\", line 1465, in fit\n",
      "    super().fit(X=X, y=y, sample_weight=sample_weight, **kwargs)\n",
      "  File \"/home/oarreche@ads.iu.edu/anaconda3/envs/HITL/lib/python3.6/site-packages/scikeras/wrappers.py\", line 736, in fit\n",
      "    X=X, y=y, sample_weight=sample_weight, warm_start=self.warm_start, **kwargs,\n",
      "  File \"/home/oarreche@ads.iu.edu/anaconda3/envs/HITL/lib/python3.6/site-packages/scikeras/wrappers.py\", line 887, in _fit\n",
      "    X, y = self._initialize(X, y)\n",
      "  File \"/home/oarreche@ads.iu.edu/anaconda3/envs/HITL/lib/python3.6/site-packages/scikeras/wrappers.py\", line 824, in _initialize\n",
      "    self.model_ = self._build_keras_model()\n",
      "  File \"/home/oarreche@ads.iu.edu/anaconda3/envs/HITL/lib/python3.6/site-packages/scikeras/wrappers.py\", line 408, in _build_keras_model\n",
      "    model = final_build_fn(**build_params)\n",
      "TypeError: getModel() missing 1 required positional argument: 'optimizer'\n",
      "\n",
      "  FitFailedWarning)\n",
      "/home/oarreche@ads.iu.edu/anaconda3/envs/HITL/lib/python3.6/site-packages/scikeras/wrappers.py:290: UserWarning: ``build_fn`` will be renamed to ``model`` in a future release, at which point use of ``build_fn`` will raise an Error instead.\n",
      "  \"``build_fn`` will be renamed to ``model`` in a future release,\"\n",
      "/home/oarreche@ads.iu.edu/anaconda3/envs/HITL/lib/python3.6/site-packages/sklearn/model_selection/_validation.py:552: FitFailedWarning: Estimator fit failed. The score on this train-test partition for these parameters will be set to nan. Details: \n",
      "Traceback (most recent call last):\n",
      "  File \"/home/oarreche@ads.iu.edu/anaconda3/envs/HITL/lib/python3.6/site-packages/sklearn/model_selection/_validation.py\", line 531, in _fit_and_score\n",
      "    estimator.fit(X_train, y_train, **fit_params)\n",
      "  File \"/home/oarreche@ads.iu.edu/anaconda3/envs/HITL/lib/python3.6/site-packages/scikeras/wrappers.py\", line 1465, in fit\n",
      "    super().fit(X=X, y=y, sample_weight=sample_weight, **kwargs)\n",
      "  File \"/home/oarreche@ads.iu.edu/anaconda3/envs/HITL/lib/python3.6/site-packages/scikeras/wrappers.py\", line 736, in fit\n",
      "    X=X, y=y, sample_weight=sample_weight, warm_start=self.warm_start, **kwargs,\n",
      "  File \"/home/oarreche@ads.iu.edu/anaconda3/envs/HITL/lib/python3.6/site-packages/scikeras/wrappers.py\", line 887, in _fit\n",
      "    X, y = self._initialize(X, y)\n",
      "  File \"/home/oarreche@ads.iu.edu/anaconda3/envs/HITL/lib/python3.6/site-packages/scikeras/wrappers.py\", line 824, in _initialize\n",
      "    self.model_ = self._build_keras_model()\n",
      "  File \"/home/oarreche@ads.iu.edu/anaconda3/envs/HITL/lib/python3.6/site-packages/scikeras/wrappers.py\", line 408, in _build_keras_model\n",
      "    model = final_build_fn(**build_params)\n",
      "TypeError: getModel() missing 1 required positional argument: 'optimizer'\n",
      "\n",
      "  FitFailedWarning)\n",
      "/home/oarreche@ads.iu.edu/anaconda3/envs/HITL/lib/python3.6/site-packages/scikeras/wrappers.py:290: UserWarning: ``build_fn`` will be renamed to ``model`` in a future release, at which point use of ``build_fn`` will raise an Error instead.\n",
      "  \"``build_fn`` will be renamed to ``model`` in a future release,\"\n",
      "/home/oarreche@ads.iu.edu/anaconda3/envs/HITL/lib/python3.6/site-packages/sklearn/model_selection/_validation.py:552: FitFailedWarning: Estimator fit failed. The score on this train-test partition for these parameters will be set to nan. Details: \n",
      "Traceback (most recent call last):\n",
      "  File \"/home/oarreche@ads.iu.edu/anaconda3/envs/HITL/lib/python3.6/site-packages/sklearn/model_selection/_validation.py\", line 531, in _fit_and_score\n",
      "    estimator.fit(X_train, y_train, **fit_params)\n",
      "  File \"/home/oarreche@ads.iu.edu/anaconda3/envs/HITL/lib/python3.6/site-packages/scikeras/wrappers.py\", line 1465, in fit\n",
      "    super().fit(X=X, y=y, sample_weight=sample_weight, **kwargs)\n",
      "  File \"/home/oarreche@ads.iu.edu/anaconda3/envs/HITL/lib/python3.6/site-packages/scikeras/wrappers.py\", line 736, in fit\n",
      "    X=X, y=y, sample_weight=sample_weight, warm_start=self.warm_start, **kwargs,\n",
      "  File \"/home/oarreche@ads.iu.edu/anaconda3/envs/HITL/lib/python3.6/site-packages/scikeras/wrappers.py\", line 887, in _fit\n",
      "    X, y = self._initialize(X, y)\n",
      "  File \"/home/oarreche@ads.iu.edu/anaconda3/envs/HITL/lib/python3.6/site-packages/scikeras/wrappers.py\", line 824, in _initialize\n",
      "    self.model_ = self._build_keras_model()\n",
      "  File \"/home/oarreche@ads.iu.edu/anaconda3/envs/HITL/lib/python3.6/site-packages/scikeras/wrappers.py\", line 408, in _build_keras_model\n",
      "    model = final_build_fn(**build_params)\n",
      "TypeError: getModel() missing 1 required positional argument: 'optimizer'\n",
      "\n",
      "  FitFailedWarning)\n",
      "/home/oarreche@ads.iu.edu/anaconda3/envs/HITL/lib/python3.6/site-packages/scikeras/wrappers.py:290: UserWarning: ``build_fn`` will be renamed to ``model`` in a future release, at which point use of ``build_fn`` will raise an Error instead.\n",
      "  \"``build_fn`` will be renamed to ``model`` in a future release,\"\n",
      "/home/oarreche@ads.iu.edu/anaconda3/envs/HITL/lib/python3.6/site-packages/sklearn/model_selection/_validation.py:552: FitFailedWarning: Estimator fit failed. The score on this train-test partition for these parameters will be set to nan. Details: \n",
      "Traceback (most recent call last):\n",
      "  File \"/home/oarreche@ads.iu.edu/anaconda3/envs/HITL/lib/python3.6/site-packages/sklearn/model_selection/_validation.py\", line 531, in _fit_and_score\n",
      "    estimator.fit(X_train, y_train, **fit_params)\n",
      "  File \"/home/oarreche@ads.iu.edu/anaconda3/envs/HITL/lib/python3.6/site-packages/scikeras/wrappers.py\", line 1465, in fit\n",
      "    super().fit(X=X, y=y, sample_weight=sample_weight, **kwargs)\n",
      "  File \"/home/oarreche@ads.iu.edu/anaconda3/envs/HITL/lib/python3.6/site-packages/scikeras/wrappers.py\", line 736, in fit\n",
      "    X=X, y=y, sample_weight=sample_weight, warm_start=self.warm_start, **kwargs,\n",
      "  File \"/home/oarreche@ads.iu.edu/anaconda3/envs/HITL/lib/python3.6/site-packages/scikeras/wrappers.py\", line 887, in _fit\n",
      "    X, y = self._initialize(X, y)\n",
      "  File \"/home/oarreche@ads.iu.edu/anaconda3/envs/HITL/lib/python3.6/site-packages/scikeras/wrappers.py\", line 824, in _initialize\n",
      "    self.model_ = self._build_keras_model()\n",
      "  File \"/home/oarreche@ads.iu.edu/anaconda3/envs/HITL/lib/python3.6/site-packages/scikeras/wrappers.py\", line 408, in _build_keras_model\n",
      "    model = final_build_fn(**build_params)\n",
      "TypeError: getModel() missing 1 required positional argument: 'optimizer'\n",
      "\n",
      "  FitFailedWarning)\n",
      "/home/oarreche@ads.iu.edu/anaconda3/envs/HITL/lib/python3.6/site-packages/scikeras/wrappers.py:290: UserWarning: ``build_fn`` will be renamed to ``model`` in a future release, at which point use of ``build_fn`` will raise an Error instead.\n",
      "  \"``build_fn`` will be renamed to ``model`` in a future release,\"\n",
      "/home/oarreche@ads.iu.edu/anaconda3/envs/HITL/lib/python3.6/site-packages/sklearn/model_selection/_validation.py:552: FitFailedWarning: Estimator fit failed. The score on this train-test partition for these parameters will be set to nan. Details: \n",
      "Traceback (most recent call last):\n",
      "  File \"/home/oarreche@ads.iu.edu/anaconda3/envs/HITL/lib/python3.6/site-packages/sklearn/model_selection/_validation.py\", line 531, in _fit_and_score\n",
      "    estimator.fit(X_train, y_train, **fit_params)\n",
      "  File \"/home/oarreche@ads.iu.edu/anaconda3/envs/HITL/lib/python3.6/site-packages/scikeras/wrappers.py\", line 1465, in fit\n",
      "    super().fit(X=X, y=y, sample_weight=sample_weight, **kwargs)\n",
      "  File \"/home/oarreche@ads.iu.edu/anaconda3/envs/HITL/lib/python3.6/site-packages/scikeras/wrappers.py\", line 736, in fit\n",
      "    X=X, y=y, sample_weight=sample_weight, warm_start=self.warm_start, **kwargs,\n",
      "  File \"/home/oarreche@ads.iu.edu/anaconda3/envs/HITL/lib/python3.6/site-packages/scikeras/wrappers.py\", line 887, in _fit\n",
      "    X, y = self._initialize(X, y)\n",
      "  File \"/home/oarreche@ads.iu.edu/anaconda3/envs/HITL/lib/python3.6/site-packages/scikeras/wrappers.py\", line 824, in _initialize\n",
      "    self.model_ = self._build_keras_model()\n",
      "  File \"/home/oarreche@ads.iu.edu/anaconda3/envs/HITL/lib/python3.6/site-packages/scikeras/wrappers.py\", line 408, in _build_keras_model\n",
      "    model = final_build_fn(**build_params)\n",
      "TypeError: getModel() missing 1 required positional argument: 'optimizer'\n",
      "\n",
      "  FitFailedWarning)\n",
      "/home/oarreche@ads.iu.edu/anaconda3/envs/HITL/lib/python3.6/site-packages/scikeras/wrappers.py:290: UserWarning: ``build_fn`` will be renamed to ``model`` in a future release, at which point use of ``build_fn`` will raise an Error instead.\n",
      "  \"``build_fn`` will be renamed to ``model`` in a future release,\"\n",
      "/home/oarreche@ads.iu.edu/anaconda3/envs/HITL/lib/python3.6/site-packages/sklearn/model_selection/_validation.py:552: FitFailedWarning: Estimator fit failed. The score on this train-test partition for these parameters will be set to nan. Details: \n",
      "Traceback (most recent call last):\n",
      "  File \"/home/oarreche@ads.iu.edu/anaconda3/envs/HITL/lib/python3.6/site-packages/sklearn/model_selection/_validation.py\", line 531, in _fit_and_score\n",
      "    estimator.fit(X_train, y_train, **fit_params)\n",
      "  File \"/home/oarreche@ads.iu.edu/anaconda3/envs/HITL/lib/python3.6/site-packages/scikeras/wrappers.py\", line 1465, in fit\n",
      "    super().fit(X=X, y=y, sample_weight=sample_weight, **kwargs)\n",
      "  File \"/home/oarreche@ads.iu.edu/anaconda3/envs/HITL/lib/python3.6/site-packages/scikeras/wrappers.py\", line 736, in fit\n",
      "    X=X, y=y, sample_weight=sample_weight, warm_start=self.warm_start, **kwargs,\n",
      "  File \"/home/oarreche@ads.iu.edu/anaconda3/envs/HITL/lib/python3.6/site-packages/scikeras/wrappers.py\", line 887, in _fit\n",
      "    X, y = self._initialize(X, y)\n",
      "  File \"/home/oarreche@ads.iu.edu/anaconda3/envs/HITL/lib/python3.6/site-packages/scikeras/wrappers.py\", line 824, in _initialize\n",
      "    self.model_ = self._build_keras_model()\n",
      "  File \"/home/oarreche@ads.iu.edu/anaconda3/envs/HITL/lib/python3.6/site-packages/scikeras/wrappers.py\", line 408, in _build_keras_model\n",
      "    model = final_build_fn(**build_params)\n",
      "TypeError: getModel() missing 1 required positional argument: 'optimizer'\n",
      "\n",
      "  FitFailedWarning)\n",
      "/home/oarreche@ads.iu.edu/anaconda3/envs/HITL/lib/python3.6/site-packages/scikeras/wrappers.py:290: UserWarning: ``build_fn`` will be renamed to ``model`` in a future release, at which point use of ``build_fn`` will raise an Error instead.\n",
      "  \"``build_fn`` will be renamed to ``model`` in a future release,\"\n",
      "/home/oarreche@ads.iu.edu/anaconda3/envs/HITL/lib/python3.6/site-packages/sklearn/model_selection/_validation.py:552: FitFailedWarning: Estimator fit failed. The score on this train-test partition for these parameters will be set to nan. Details: \n",
      "Traceback (most recent call last):\n",
      "  File \"/home/oarreche@ads.iu.edu/anaconda3/envs/HITL/lib/python3.6/site-packages/sklearn/model_selection/_validation.py\", line 531, in _fit_and_score\n",
      "    estimator.fit(X_train, y_train, **fit_params)\n",
      "  File \"/home/oarreche@ads.iu.edu/anaconda3/envs/HITL/lib/python3.6/site-packages/scikeras/wrappers.py\", line 1465, in fit\n",
      "    super().fit(X=X, y=y, sample_weight=sample_weight, **kwargs)\n",
      "  File \"/home/oarreche@ads.iu.edu/anaconda3/envs/HITL/lib/python3.6/site-packages/scikeras/wrappers.py\", line 736, in fit\n",
      "    X=X, y=y, sample_weight=sample_weight, warm_start=self.warm_start, **kwargs,\n",
      "  File \"/home/oarreche@ads.iu.edu/anaconda3/envs/HITL/lib/python3.6/site-packages/scikeras/wrappers.py\", line 887, in _fit\n",
      "    X, y = self._initialize(X, y)\n",
      "  File \"/home/oarreche@ads.iu.edu/anaconda3/envs/HITL/lib/python3.6/site-packages/scikeras/wrappers.py\", line 824, in _initialize\n",
      "    self.model_ = self._build_keras_model()\n",
      "  File \"/home/oarreche@ads.iu.edu/anaconda3/envs/HITL/lib/python3.6/site-packages/scikeras/wrappers.py\", line 408, in _build_keras_model\n",
      "    model = final_build_fn(**build_params)\n",
      "TypeError: getModel() missing 1 required positional argument: 'optimizer'\n",
      "\n",
      "  FitFailedWarning)\n",
      "/home/oarreche@ads.iu.edu/anaconda3/envs/HITL/lib/python3.6/site-packages/scikeras/wrappers.py:290: UserWarning: ``build_fn`` will be renamed to ``model`` in a future release, at which point use of ``build_fn`` will raise an Error instead.\n",
      "  \"``build_fn`` will be renamed to ``model`` in a future release,\"\n",
      "/home/oarreche@ads.iu.edu/anaconda3/envs/HITL/lib/python3.6/site-packages/sklearn/model_selection/_validation.py:552: FitFailedWarning: Estimator fit failed. The score on this train-test partition for these parameters will be set to nan. Details: \n",
      "Traceback (most recent call last):\n",
      "  File \"/home/oarreche@ads.iu.edu/anaconda3/envs/HITL/lib/python3.6/site-packages/sklearn/model_selection/_validation.py\", line 531, in _fit_and_score\n",
      "    estimator.fit(X_train, y_train, **fit_params)\n",
      "  File \"/home/oarreche@ads.iu.edu/anaconda3/envs/HITL/lib/python3.6/site-packages/scikeras/wrappers.py\", line 1465, in fit\n",
      "    super().fit(X=X, y=y, sample_weight=sample_weight, **kwargs)\n",
      "  File \"/home/oarreche@ads.iu.edu/anaconda3/envs/HITL/lib/python3.6/site-packages/scikeras/wrappers.py\", line 736, in fit\n",
      "    X=X, y=y, sample_weight=sample_weight, warm_start=self.warm_start, **kwargs,\n",
      "  File \"/home/oarreche@ads.iu.edu/anaconda3/envs/HITL/lib/python3.6/site-packages/scikeras/wrappers.py\", line 887, in _fit\n",
      "    X, y = self._initialize(X, y)\n",
      "  File \"/home/oarreche@ads.iu.edu/anaconda3/envs/HITL/lib/python3.6/site-packages/scikeras/wrappers.py\", line 824, in _initialize\n",
      "    self.model_ = self._build_keras_model()\n",
      "  File \"/home/oarreche@ads.iu.edu/anaconda3/envs/HITL/lib/python3.6/site-packages/scikeras/wrappers.py\", line 408, in _build_keras_model\n",
      "    model = final_build_fn(**build_params)\n",
      "TypeError: getModel() missing 1 required positional argument: 'optimizer'\n",
      "\n",
      "  FitFailedWarning)\n",
      "/home/oarreche@ads.iu.edu/anaconda3/envs/HITL/lib/python3.6/site-packages/scikeras/wrappers.py:290: UserWarning: ``build_fn`` will be renamed to ``model`` in a future release, at which point use of ``build_fn`` will raise an Error instead.\n",
      "  \"``build_fn`` will be renamed to ``model`` in a future release,\"\n",
      "/home/oarreche@ads.iu.edu/anaconda3/envs/HITL/lib/python3.6/site-packages/sklearn/model_selection/_validation.py:552: FitFailedWarning: Estimator fit failed. The score on this train-test partition for these parameters will be set to nan. Details: \n",
      "Traceback (most recent call last):\n",
      "  File \"/home/oarreche@ads.iu.edu/anaconda3/envs/HITL/lib/python3.6/site-packages/sklearn/model_selection/_validation.py\", line 531, in _fit_and_score\n",
      "    estimator.fit(X_train, y_train, **fit_params)\n",
      "  File \"/home/oarreche@ads.iu.edu/anaconda3/envs/HITL/lib/python3.6/site-packages/scikeras/wrappers.py\", line 1465, in fit\n",
      "    super().fit(X=X, y=y, sample_weight=sample_weight, **kwargs)\n",
      "  File \"/home/oarreche@ads.iu.edu/anaconda3/envs/HITL/lib/python3.6/site-packages/scikeras/wrappers.py\", line 736, in fit\n",
      "    X=X, y=y, sample_weight=sample_weight, warm_start=self.warm_start, **kwargs,\n",
      "  File \"/home/oarreche@ads.iu.edu/anaconda3/envs/HITL/lib/python3.6/site-packages/scikeras/wrappers.py\", line 887, in _fit\n",
      "    X, y = self._initialize(X, y)\n",
      "  File \"/home/oarreche@ads.iu.edu/anaconda3/envs/HITL/lib/python3.6/site-packages/scikeras/wrappers.py\", line 824, in _initialize\n",
      "    self.model_ = self._build_keras_model()\n",
      "  File \"/home/oarreche@ads.iu.edu/anaconda3/envs/HITL/lib/python3.6/site-packages/scikeras/wrappers.py\", line 408, in _build_keras_model\n",
      "    model = final_build_fn(**build_params)\n",
      "TypeError: getModel() missing 1 required positional argument: 'optimizer'\n",
      "\n",
      "  FitFailedWarning)\n",
      "/home/oarreche@ads.iu.edu/anaconda3/envs/HITL/lib/python3.6/site-packages/scikeras/wrappers.py:290: UserWarning: ``build_fn`` will be renamed to ``model`` in a future release, at which point use of ``build_fn`` will raise an Error instead.\n",
      "  \"``build_fn`` will be renamed to ``model`` in a future release,\"\n",
      "/home/oarreche@ads.iu.edu/anaconda3/envs/HITL/lib/python3.6/site-packages/sklearn/model_selection/_validation.py:552: FitFailedWarning: Estimator fit failed. The score on this train-test partition for these parameters will be set to nan. Details: \n",
      "Traceback (most recent call last):\n",
      "  File \"/home/oarreche@ads.iu.edu/anaconda3/envs/HITL/lib/python3.6/site-packages/sklearn/model_selection/_validation.py\", line 531, in _fit_and_score\n",
      "    estimator.fit(X_train, y_train, **fit_params)\n",
      "  File \"/home/oarreche@ads.iu.edu/anaconda3/envs/HITL/lib/python3.6/site-packages/scikeras/wrappers.py\", line 1465, in fit\n",
      "    super().fit(X=X, y=y, sample_weight=sample_weight, **kwargs)\n",
      "  File \"/home/oarreche@ads.iu.edu/anaconda3/envs/HITL/lib/python3.6/site-packages/scikeras/wrappers.py\", line 736, in fit\n",
      "    X=X, y=y, sample_weight=sample_weight, warm_start=self.warm_start, **kwargs,\n",
      "  File \"/home/oarreche@ads.iu.edu/anaconda3/envs/HITL/lib/python3.6/site-packages/scikeras/wrappers.py\", line 887, in _fit\n",
      "    X, y = self._initialize(X, y)\n",
      "  File \"/home/oarreche@ads.iu.edu/anaconda3/envs/HITL/lib/python3.6/site-packages/scikeras/wrappers.py\", line 824, in _initialize\n",
      "    self.model_ = self._build_keras_model()\n",
      "  File \"/home/oarreche@ads.iu.edu/anaconda3/envs/HITL/lib/python3.6/site-packages/scikeras/wrappers.py\", line 408, in _build_keras_model\n",
      "    model = final_build_fn(**build_params)\n",
      "TypeError: getModel() missing 1 required positional argument: 'optimizer'\n",
      "\n",
      "  FitFailedWarning)\n",
      "/home/oarreche@ads.iu.edu/anaconda3/envs/HITL/lib/python3.6/site-packages/scikeras/wrappers.py:290: UserWarning: ``build_fn`` will be renamed to ``model`` in a future release, at which point use of ``build_fn`` will raise an Error instead.\n",
      "  \"``build_fn`` will be renamed to ``model`` in a future release,\"\n",
      "/home/oarreche@ads.iu.edu/anaconda3/envs/HITL/lib/python3.6/site-packages/sklearn/model_selection/_validation.py:552: FitFailedWarning: Estimator fit failed. The score on this train-test partition for these parameters will be set to nan. Details: \n",
      "Traceback (most recent call last):\n",
      "  File \"/home/oarreche@ads.iu.edu/anaconda3/envs/HITL/lib/python3.6/site-packages/sklearn/model_selection/_validation.py\", line 531, in _fit_and_score\n",
      "    estimator.fit(X_train, y_train, **fit_params)\n",
      "  File \"/home/oarreche@ads.iu.edu/anaconda3/envs/HITL/lib/python3.6/site-packages/scikeras/wrappers.py\", line 1465, in fit\n",
      "    super().fit(X=X, y=y, sample_weight=sample_weight, **kwargs)\n",
      "  File \"/home/oarreche@ads.iu.edu/anaconda3/envs/HITL/lib/python3.6/site-packages/scikeras/wrappers.py\", line 736, in fit\n",
      "    X=X, y=y, sample_weight=sample_weight, warm_start=self.warm_start, **kwargs,\n",
      "  File \"/home/oarreche@ads.iu.edu/anaconda3/envs/HITL/lib/python3.6/site-packages/scikeras/wrappers.py\", line 887, in _fit\n",
      "    X, y = self._initialize(X, y)\n",
      "  File \"/home/oarreche@ads.iu.edu/anaconda3/envs/HITL/lib/python3.6/site-packages/scikeras/wrappers.py\", line 824, in _initialize\n",
      "    self.model_ = self._build_keras_model()\n",
      "  File \"/home/oarreche@ads.iu.edu/anaconda3/envs/HITL/lib/python3.6/site-packages/scikeras/wrappers.py\", line 408, in _build_keras_model\n",
      "    model = final_build_fn(**build_params)\n",
      "TypeError: getModel() missing 1 required positional argument: 'optimizer'\n",
      "\n",
      "  FitFailedWarning)\n",
      "/home/oarreche@ads.iu.edu/anaconda3/envs/HITL/lib/python3.6/site-packages/scikeras/wrappers.py:290: UserWarning: ``build_fn`` will be renamed to ``model`` in a future release, at which point use of ``build_fn`` will raise an Error instead.\n",
      "  \"``build_fn`` will be renamed to ``model`` in a future release,\"\n",
      "/home/oarreche@ads.iu.edu/anaconda3/envs/HITL/lib/python3.6/site-packages/sklearn/model_selection/_validation.py:552: FitFailedWarning: Estimator fit failed. The score on this train-test partition for these parameters will be set to nan. Details: \n",
      "Traceback (most recent call last):\n",
      "  File \"/home/oarreche@ads.iu.edu/anaconda3/envs/HITL/lib/python3.6/site-packages/sklearn/model_selection/_validation.py\", line 531, in _fit_and_score\n",
      "    estimator.fit(X_train, y_train, **fit_params)\n",
      "  File \"/home/oarreche@ads.iu.edu/anaconda3/envs/HITL/lib/python3.6/site-packages/scikeras/wrappers.py\", line 1465, in fit\n",
      "    super().fit(X=X, y=y, sample_weight=sample_weight, **kwargs)\n",
      "  File \"/home/oarreche@ads.iu.edu/anaconda3/envs/HITL/lib/python3.6/site-packages/scikeras/wrappers.py\", line 736, in fit\n",
      "    X=X, y=y, sample_weight=sample_weight, warm_start=self.warm_start, **kwargs,\n",
      "  File \"/home/oarreche@ads.iu.edu/anaconda3/envs/HITL/lib/python3.6/site-packages/scikeras/wrappers.py\", line 887, in _fit\n",
      "    X, y = self._initialize(X, y)\n",
      "  File \"/home/oarreche@ads.iu.edu/anaconda3/envs/HITL/lib/python3.6/site-packages/scikeras/wrappers.py\", line 824, in _initialize\n",
      "    self.model_ = self._build_keras_model()\n",
      "  File \"/home/oarreche@ads.iu.edu/anaconda3/envs/HITL/lib/python3.6/site-packages/scikeras/wrappers.py\", line 408, in _build_keras_model\n",
      "    model = final_build_fn(**build_params)\n",
      "TypeError: getModel() missing 1 required positional argument: 'optimizer'\n",
      "\n",
      "  FitFailedWarning)\n",
      "/home/oarreche@ads.iu.edu/anaconda3/envs/HITL/lib/python3.6/site-packages/scikeras/wrappers.py:290: UserWarning: ``build_fn`` will be renamed to ``model`` in a future release, at which point use of ``build_fn`` will raise an Error instead.\n",
      "  \"``build_fn`` will be renamed to ``model`` in a future release,\"\n",
      "/home/oarreche@ads.iu.edu/anaconda3/envs/HITL/lib/python3.6/site-packages/sklearn/model_selection/_validation.py:552: FitFailedWarning: Estimator fit failed. The score on this train-test partition for these parameters will be set to nan. Details: \n",
      "Traceback (most recent call last):\n",
      "  File \"/home/oarreche@ads.iu.edu/anaconda3/envs/HITL/lib/python3.6/site-packages/sklearn/model_selection/_validation.py\", line 531, in _fit_and_score\n",
      "    estimator.fit(X_train, y_train, **fit_params)\n",
      "  File \"/home/oarreche@ads.iu.edu/anaconda3/envs/HITL/lib/python3.6/site-packages/scikeras/wrappers.py\", line 1465, in fit\n",
      "    super().fit(X=X, y=y, sample_weight=sample_weight, **kwargs)\n",
      "  File \"/home/oarreche@ads.iu.edu/anaconda3/envs/HITL/lib/python3.6/site-packages/scikeras/wrappers.py\", line 736, in fit\n",
      "    X=X, y=y, sample_weight=sample_weight, warm_start=self.warm_start, **kwargs,\n",
      "  File \"/home/oarreche@ads.iu.edu/anaconda3/envs/HITL/lib/python3.6/site-packages/scikeras/wrappers.py\", line 887, in _fit\n",
      "    X, y = self._initialize(X, y)\n",
      "  File \"/home/oarreche@ads.iu.edu/anaconda3/envs/HITL/lib/python3.6/site-packages/scikeras/wrappers.py\", line 824, in _initialize\n",
      "    self.model_ = self._build_keras_model()\n",
      "  File \"/home/oarreche@ads.iu.edu/anaconda3/envs/HITL/lib/python3.6/site-packages/scikeras/wrappers.py\", line 408, in _build_keras_model\n",
      "    model = final_build_fn(**build_params)\n",
      "TypeError: getModel() missing 1 required positional argument: 'optimizer'\n",
      "\n",
      "  FitFailedWarning)\n",
      "/home/oarreche@ads.iu.edu/anaconda3/envs/HITL/lib/python3.6/site-packages/scikeras/wrappers.py:290: UserWarning: ``build_fn`` will be renamed to ``model`` in a future release, at which point use of ``build_fn`` will raise an Error instead.\n",
      "  \"``build_fn`` will be renamed to ``model`` in a future release,\"\n",
      "/home/oarreche@ads.iu.edu/anaconda3/envs/HITL/lib/python3.6/site-packages/sklearn/model_selection/_validation.py:552: FitFailedWarning: Estimator fit failed. The score on this train-test partition for these parameters will be set to nan. Details: \n",
      "Traceback (most recent call last):\n",
      "  File \"/home/oarreche@ads.iu.edu/anaconda3/envs/HITL/lib/python3.6/site-packages/sklearn/model_selection/_validation.py\", line 531, in _fit_and_score\n",
      "    estimator.fit(X_train, y_train, **fit_params)\n",
      "  File \"/home/oarreche@ads.iu.edu/anaconda3/envs/HITL/lib/python3.6/site-packages/scikeras/wrappers.py\", line 1465, in fit\n",
      "    super().fit(X=X, y=y, sample_weight=sample_weight, **kwargs)\n",
      "  File \"/home/oarreche@ads.iu.edu/anaconda3/envs/HITL/lib/python3.6/site-packages/scikeras/wrappers.py\", line 736, in fit\n",
      "    X=X, y=y, sample_weight=sample_weight, warm_start=self.warm_start, **kwargs,\n",
      "  File \"/home/oarreche@ads.iu.edu/anaconda3/envs/HITL/lib/python3.6/site-packages/scikeras/wrappers.py\", line 887, in _fit\n",
      "    X, y = self._initialize(X, y)\n",
      "  File \"/home/oarreche@ads.iu.edu/anaconda3/envs/HITL/lib/python3.6/site-packages/scikeras/wrappers.py\", line 824, in _initialize\n",
      "    self.model_ = self._build_keras_model()\n",
      "  File \"/home/oarreche@ads.iu.edu/anaconda3/envs/HITL/lib/python3.6/site-packages/scikeras/wrappers.py\", line 408, in _build_keras_model\n",
      "    model = final_build_fn(**build_params)\n",
      "TypeError: getModel() missing 1 required positional argument: 'optimizer'\n",
      "\n",
      "  FitFailedWarning)\n",
      "/home/oarreche@ads.iu.edu/anaconda3/envs/HITL/lib/python3.6/site-packages/scikeras/wrappers.py:290: UserWarning: ``build_fn`` will be renamed to ``model`` in a future release, at which point use of ``build_fn`` will raise an Error instead.\n",
      "  \"``build_fn`` will be renamed to ``model`` in a future release,\"\n",
      "/home/oarreche@ads.iu.edu/anaconda3/envs/HITL/lib/python3.6/site-packages/sklearn/model_selection/_validation.py:552: FitFailedWarning: Estimator fit failed. The score on this train-test partition for these parameters will be set to nan. Details: \n",
      "Traceback (most recent call last):\n",
      "  File \"/home/oarreche@ads.iu.edu/anaconda3/envs/HITL/lib/python3.6/site-packages/sklearn/model_selection/_validation.py\", line 531, in _fit_and_score\n",
      "    estimator.fit(X_train, y_train, **fit_params)\n",
      "  File \"/home/oarreche@ads.iu.edu/anaconda3/envs/HITL/lib/python3.6/site-packages/scikeras/wrappers.py\", line 1465, in fit\n",
      "    super().fit(X=X, y=y, sample_weight=sample_weight, **kwargs)\n",
      "  File \"/home/oarreche@ads.iu.edu/anaconda3/envs/HITL/lib/python3.6/site-packages/scikeras/wrappers.py\", line 736, in fit\n",
      "    X=X, y=y, sample_weight=sample_weight, warm_start=self.warm_start, **kwargs,\n",
      "  File \"/home/oarreche@ads.iu.edu/anaconda3/envs/HITL/lib/python3.6/site-packages/scikeras/wrappers.py\", line 887, in _fit\n",
      "    X, y = self._initialize(X, y)\n",
      "  File \"/home/oarreche@ads.iu.edu/anaconda3/envs/HITL/lib/python3.6/site-packages/scikeras/wrappers.py\", line 824, in _initialize\n",
      "    self.model_ = self._build_keras_model()\n",
      "  File \"/home/oarreche@ads.iu.edu/anaconda3/envs/HITL/lib/python3.6/site-packages/scikeras/wrappers.py\", line 408, in _build_keras_model\n",
      "    model = final_build_fn(**build_params)\n",
      "TypeError: getModel() missing 1 required positional argument: 'optimizer'\n",
      "\n",
      "  FitFailedWarning)\n",
      "/home/oarreche@ads.iu.edu/anaconda3/envs/HITL/lib/python3.6/site-packages/scikeras/wrappers.py:290: UserWarning: ``build_fn`` will be renamed to ``model`` in a future release, at which point use of ``build_fn`` will raise an Error instead.\n",
      "  \"``build_fn`` will be renamed to ``model`` in a future release,\"\n",
      "/home/oarreche@ads.iu.edu/anaconda3/envs/HITL/lib/python3.6/site-packages/sklearn/model_selection/_validation.py:552: FitFailedWarning: Estimator fit failed. The score on this train-test partition for these parameters will be set to nan. Details: \n",
      "Traceback (most recent call last):\n",
      "  File \"/home/oarreche@ads.iu.edu/anaconda3/envs/HITL/lib/python3.6/site-packages/sklearn/model_selection/_validation.py\", line 531, in _fit_and_score\n",
      "    estimator.fit(X_train, y_train, **fit_params)\n",
      "  File \"/home/oarreche@ads.iu.edu/anaconda3/envs/HITL/lib/python3.6/site-packages/scikeras/wrappers.py\", line 1465, in fit\n",
      "    super().fit(X=X, y=y, sample_weight=sample_weight, **kwargs)\n",
      "  File \"/home/oarreche@ads.iu.edu/anaconda3/envs/HITL/lib/python3.6/site-packages/scikeras/wrappers.py\", line 736, in fit\n",
      "    X=X, y=y, sample_weight=sample_weight, warm_start=self.warm_start, **kwargs,\n",
      "  File \"/home/oarreche@ads.iu.edu/anaconda3/envs/HITL/lib/python3.6/site-packages/scikeras/wrappers.py\", line 887, in _fit\n",
      "    X, y = self._initialize(X, y)\n",
      "  File \"/home/oarreche@ads.iu.edu/anaconda3/envs/HITL/lib/python3.6/site-packages/scikeras/wrappers.py\", line 824, in _initialize\n",
      "    self.model_ = self._build_keras_model()\n",
      "  File \"/home/oarreche@ads.iu.edu/anaconda3/envs/HITL/lib/python3.6/site-packages/scikeras/wrappers.py\", line 408, in _build_keras_model\n",
      "    model = final_build_fn(**build_params)\n",
      "TypeError: getModel() missing 1 required positional argument: 'optimizer'\n",
      "\n",
      "  FitFailedWarning)\n",
      "/home/oarreche@ads.iu.edu/anaconda3/envs/HITL/lib/python3.6/site-packages/scikeras/wrappers.py:290: UserWarning: ``build_fn`` will be renamed to ``model`` in a future release, at which point use of ``build_fn`` will raise an Error instead.\n",
      "  \"``build_fn`` will be renamed to ``model`` in a future release,\"\n",
      "/home/oarreche@ads.iu.edu/anaconda3/envs/HITL/lib/python3.6/site-packages/sklearn/model_selection/_validation.py:552: FitFailedWarning: Estimator fit failed. The score on this train-test partition for these parameters will be set to nan. Details: \n",
      "Traceback (most recent call last):\n",
      "  File \"/home/oarreche@ads.iu.edu/anaconda3/envs/HITL/lib/python3.6/site-packages/sklearn/model_selection/_validation.py\", line 531, in _fit_and_score\n",
      "    estimator.fit(X_train, y_train, **fit_params)\n",
      "  File \"/home/oarreche@ads.iu.edu/anaconda3/envs/HITL/lib/python3.6/site-packages/scikeras/wrappers.py\", line 1465, in fit\n",
      "    super().fit(X=X, y=y, sample_weight=sample_weight, **kwargs)\n",
      "  File \"/home/oarreche@ads.iu.edu/anaconda3/envs/HITL/lib/python3.6/site-packages/scikeras/wrappers.py\", line 736, in fit\n",
      "    X=X, y=y, sample_weight=sample_weight, warm_start=self.warm_start, **kwargs,\n",
      "  File \"/home/oarreche@ads.iu.edu/anaconda3/envs/HITL/lib/python3.6/site-packages/scikeras/wrappers.py\", line 887, in _fit\n",
      "    X, y = self._initialize(X, y)\n",
      "  File \"/home/oarreche@ads.iu.edu/anaconda3/envs/HITL/lib/python3.6/site-packages/scikeras/wrappers.py\", line 824, in _initialize\n",
      "    self.model_ = self._build_keras_model()\n",
      "  File \"/home/oarreche@ads.iu.edu/anaconda3/envs/HITL/lib/python3.6/site-packages/scikeras/wrappers.py\", line 408, in _build_keras_model\n",
      "    model = final_build_fn(**build_params)\n",
      "TypeError: getModel() missing 1 required positional argument: 'optimizer'\n",
      "\n",
      "  FitFailedWarning)\n",
      "/home/oarreche@ads.iu.edu/anaconda3/envs/HITL/lib/python3.6/site-packages/scikeras/wrappers.py:290: UserWarning: ``build_fn`` will be renamed to ``model`` in a future release, at which point use of ``build_fn`` will raise an Error instead.\n",
      "  \"``build_fn`` will be renamed to ``model`` in a future release,\"\n",
      "/home/oarreche@ads.iu.edu/anaconda3/envs/HITL/lib/python3.6/site-packages/sklearn/model_selection/_validation.py:552: FitFailedWarning: Estimator fit failed. The score on this train-test partition for these parameters will be set to nan. Details: \n",
      "Traceback (most recent call last):\n",
      "  File \"/home/oarreche@ads.iu.edu/anaconda3/envs/HITL/lib/python3.6/site-packages/sklearn/model_selection/_validation.py\", line 531, in _fit_and_score\n",
      "    estimator.fit(X_train, y_train, **fit_params)\n",
      "  File \"/home/oarreche@ads.iu.edu/anaconda3/envs/HITL/lib/python3.6/site-packages/scikeras/wrappers.py\", line 1465, in fit\n",
      "    super().fit(X=X, y=y, sample_weight=sample_weight, **kwargs)\n",
      "  File \"/home/oarreche@ads.iu.edu/anaconda3/envs/HITL/lib/python3.6/site-packages/scikeras/wrappers.py\", line 736, in fit\n",
      "    X=X, y=y, sample_weight=sample_weight, warm_start=self.warm_start, **kwargs,\n",
      "  File \"/home/oarreche@ads.iu.edu/anaconda3/envs/HITL/lib/python3.6/site-packages/scikeras/wrappers.py\", line 887, in _fit\n",
      "    X, y = self._initialize(X, y)\n",
      "  File \"/home/oarreche@ads.iu.edu/anaconda3/envs/HITL/lib/python3.6/site-packages/scikeras/wrappers.py\", line 824, in _initialize\n",
      "    self.model_ = self._build_keras_model()\n",
      "  File \"/home/oarreche@ads.iu.edu/anaconda3/envs/HITL/lib/python3.6/site-packages/scikeras/wrappers.py\", line 408, in _build_keras_model\n",
      "    model = final_build_fn(**build_params)\n",
      "TypeError: getModel() missing 1 required positional argument: 'optimizer'\n",
      "\n",
      "  FitFailedWarning)\n",
      "/home/oarreche@ads.iu.edu/anaconda3/envs/HITL/lib/python3.6/site-packages/scikeras/wrappers.py:290: UserWarning: ``build_fn`` will be renamed to ``model`` in a future release, at which point use of ``build_fn`` will raise an Error instead.\n",
      "  \"``build_fn`` will be renamed to ``model`` in a future release,\"\n",
      "/home/oarreche@ads.iu.edu/anaconda3/envs/HITL/lib/python3.6/site-packages/sklearn/model_selection/_validation.py:552: FitFailedWarning: Estimator fit failed. The score on this train-test partition for these parameters will be set to nan. Details: \n",
      "Traceback (most recent call last):\n",
      "  File \"/home/oarreche@ads.iu.edu/anaconda3/envs/HITL/lib/python3.6/site-packages/sklearn/model_selection/_validation.py\", line 531, in _fit_and_score\n",
      "    estimator.fit(X_train, y_train, **fit_params)\n",
      "  File \"/home/oarreche@ads.iu.edu/anaconda3/envs/HITL/lib/python3.6/site-packages/scikeras/wrappers.py\", line 1465, in fit\n",
      "    super().fit(X=X, y=y, sample_weight=sample_weight, **kwargs)\n",
      "  File \"/home/oarreche@ads.iu.edu/anaconda3/envs/HITL/lib/python3.6/site-packages/scikeras/wrappers.py\", line 736, in fit\n",
      "    X=X, y=y, sample_weight=sample_weight, warm_start=self.warm_start, **kwargs,\n",
      "  File \"/home/oarreche@ads.iu.edu/anaconda3/envs/HITL/lib/python3.6/site-packages/scikeras/wrappers.py\", line 887, in _fit\n",
      "    X, y = self._initialize(X, y)\n",
      "  File \"/home/oarreche@ads.iu.edu/anaconda3/envs/HITL/lib/python3.6/site-packages/scikeras/wrappers.py\", line 824, in _initialize\n",
      "    self.model_ = self._build_keras_model()\n",
      "  File \"/home/oarreche@ads.iu.edu/anaconda3/envs/HITL/lib/python3.6/site-packages/scikeras/wrappers.py\", line 408, in _build_keras_model\n",
      "    model = final_build_fn(**build_params)\n",
      "TypeError: getModel() missing 1 required positional argument: 'optimizer'\n",
      "\n",
      "  FitFailedWarning)\n",
      "/home/oarreche@ads.iu.edu/anaconda3/envs/HITL/lib/python3.6/site-packages/scikeras/wrappers.py:290: UserWarning: ``build_fn`` will be renamed to ``model`` in a future release, at which point use of ``build_fn`` will raise an Error instead.\n",
      "  \"``build_fn`` will be renamed to ``model`` in a future release,\"\n",
      "/home/oarreche@ads.iu.edu/anaconda3/envs/HITL/lib/python3.6/site-packages/sklearn/model_selection/_validation.py:552: FitFailedWarning: Estimator fit failed. The score on this train-test partition for these parameters will be set to nan. Details: \n",
      "Traceback (most recent call last):\n",
      "  File \"/home/oarreche@ads.iu.edu/anaconda3/envs/HITL/lib/python3.6/site-packages/sklearn/model_selection/_validation.py\", line 531, in _fit_and_score\n",
      "    estimator.fit(X_train, y_train, **fit_params)\n",
      "  File \"/home/oarreche@ads.iu.edu/anaconda3/envs/HITL/lib/python3.6/site-packages/scikeras/wrappers.py\", line 1465, in fit\n",
      "    super().fit(X=X, y=y, sample_weight=sample_weight, **kwargs)\n",
      "  File \"/home/oarreche@ads.iu.edu/anaconda3/envs/HITL/lib/python3.6/site-packages/scikeras/wrappers.py\", line 736, in fit\n",
      "    X=X, y=y, sample_weight=sample_weight, warm_start=self.warm_start, **kwargs,\n",
      "  File \"/home/oarreche@ads.iu.edu/anaconda3/envs/HITL/lib/python3.6/site-packages/scikeras/wrappers.py\", line 887, in _fit\n",
      "    X, y = self._initialize(X, y)\n",
      "  File \"/home/oarreche@ads.iu.edu/anaconda3/envs/HITL/lib/python3.6/site-packages/scikeras/wrappers.py\", line 824, in _initialize\n",
      "    self.model_ = self._build_keras_model()\n",
      "  File \"/home/oarreche@ads.iu.edu/anaconda3/envs/HITL/lib/python3.6/site-packages/scikeras/wrappers.py\", line 408, in _build_keras_model\n",
      "    model = final_build_fn(**build_params)\n",
      "TypeError: getModel() missing 1 required positional argument: 'optimizer'\n",
      "\n",
      "  FitFailedWarning)\n"
     ]
    }
   ],
   "source": [
    "#DNN\n",
    "results_model4 = cross_val_score(model4, X, y, cv=kf)"
   ]
  },
  {
   "cell_type": "code",
   "execution_count": 42,
   "metadata": {},
   "outputs": [
    {
     "data": {
      "text/plain": [
       "1.9073486328125e-06"
      ]
     },
     "execution_count": 42,
     "metadata": {},
     "output_type": "execute_result"
    }
   ],
   "source": [
    "#SVM and DNN\n",
    "stat, p = wilcoxon(results_model1, results_model4,  zero_method='zsplit'); p"
   ]
  },
  {
   "cell_type": "code",
   "execution_count": 43,
   "metadata": {},
   "outputs": [
    {
     "data": {
      "text/plain": [
       "1.9073486328125e-06"
      ]
     },
     "execution_count": 43,
     "metadata": {},
     "output_type": "execute_result"
    }
   ],
   "source": [
    "#RF and DNN\n",
    "stat, p = wilcoxon(results_model2, results_model4,  zero_method='zsplit'); p"
   ]
  },
  {
   "cell_type": "code",
   "execution_count": 44,
   "metadata": {},
   "outputs": [
    {
     "data": {
      "text/plain": [
       "1.9073486328125e-06"
      ]
     },
     "execution_count": 44,
     "metadata": {},
     "output_type": "execute_result"
    }
   ],
   "source": [
    "#ADA and DNN\n",
    "stat, p = wilcoxon(results_model3, results_model4,  zero_method='zsplit'); p"
   ]
  },
  {
   "cell_type": "code",
   "execution_count": 27,
   "metadata": {},
   "outputs": [],
   "source": [
    "#LGBM\n",
    "results_model5 = cross_val_score(model5, X, y, cv=kf)"
   ]
  },
  {
   "cell_type": "code",
   "execution_count": 28,
   "metadata": {},
   "outputs": [
    {
     "data": {
      "text/plain": [
       "1.9073486328125e-06"
      ]
     },
     "execution_count": 28,
     "metadata": {},
     "output_type": "execute_result"
    }
   ],
   "source": [
    "#SVM and LGBM\n",
    "stat, p = wilcoxon(results_model1, results_model5,  zero_method='zsplit'); p"
   ]
  },
  {
   "cell_type": "code",
   "execution_count": 29,
   "metadata": {},
   "outputs": [
    {
     "data": {
      "text/plain": [
       "0.05316925048828125"
      ]
     },
     "execution_count": 29,
     "metadata": {},
     "output_type": "execute_result"
    }
   ],
   "source": [
    "#RF and LGBM\n",
    "stat, p = wilcoxon(results_model2, results_model5,  zero_method='zsplit'); p"
   ]
  },
  {
   "cell_type": "code",
   "execution_count": 30,
   "metadata": {},
   "outputs": [
    {
     "data": {
      "text/plain": [
       "1.9073486328125e-06"
      ]
     },
     "execution_count": 30,
     "metadata": {},
     "output_type": "execute_result"
    }
   ],
   "source": [
    "#ADA and LGBM\n",
    "stat, p = wilcoxon(results_model3, results_model5,  zero_method='zsplit'); p"
   ]
  },
  {
   "cell_type": "code",
   "execution_count": 45,
   "metadata": {},
   "outputs": [
    {
     "data": {
      "text/plain": [
       "1.9073486328125e-06"
      ]
     },
     "execution_count": 45,
     "metadata": {},
     "output_type": "execute_result"
    }
   ],
   "source": [
    "#DNN and LGBM\n",
    "stat, p = wilcoxon(results_model4, results_model5,  zero_method='zsplit'); p"
   ]
  },
  {
   "cell_type": "code",
   "execution_count": 31,
   "metadata": {},
   "outputs": [],
   "source": [
    "# MLP\n",
    "results_model6 = cross_val_score(model6, X, y, cv=kf)\n"
   ]
  },
  {
   "cell_type": "code",
   "execution_count": 32,
   "metadata": {},
   "outputs": [
    {
     "data": {
      "text/plain": [
       "1.9073486328125e-06"
      ]
     },
     "execution_count": 32,
     "metadata": {},
     "output_type": "execute_result"
    }
   ],
   "source": [
    "#SVM and MLP\n",
    "stat, p = wilcoxon(results_model1, results_model6,  zero_method='zsplit'); p"
   ]
  },
  {
   "cell_type": "code",
   "execution_count": 33,
   "metadata": {},
   "outputs": [
    {
     "data": {
      "text/plain": [
       "0.01923370361328125"
      ]
     },
     "execution_count": 33,
     "metadata": {},
     "output_type": "execute_result"
    }
   ],
   "source": [
    "#RF and MLP\n",
    "stat, p = wilcoxon(results_model2, results_model6,  zero_method='zsplit'); p"
   ]
  },
  {
   "cell_type": "code",
   "execution_count": 34,
   "metadata": {},
   "outputs": [
    {
     "data": {
      "text/plain": [
       "1.9073486328125e-06"
      ]
     },
     "execution_count": 34,
     "metadata": {},
     "output_type": "execute_result"
    }
   ],
   "source": [
    "#ADA and MLP\n",
    "stat, p = wilcoxon(results_model3, results_model6,  zero_method='zsplit'); p"
   ]
  },
  {
   "cell_type": "code",
   "execution_count": 46,
   "metadata": {},
   "outputs": [
    {
     "data": {
      "text/plain": [
       "1.9073486328125e-06"
      ]
     },
     "execution_count": 46,
     "metadata": {},
     "output_type": "execute_result"
    }
   ],
   "source": [
    "#DNN and MLP\n",
    "stat, p = wilcoxon(results_model4, results_model6,  zero_method='zsplit'); p"
   ]
  },
  {
   "cell_type": "code",
   "execution_count": 36,
   "metadata": {},
   "outputs": [
    {
     "data": {
      "text/plain": [
       "0.06372261047363281"
      ]
     },
     "execution_count": 36,
     "metadata": {},
     "output_type": "execute_result"
    }
   ],
   "source": [
    "#LGBM and MLP\n",
    "stat, p = wilcoxon(results_model5, results_model6,  zero_method='zsplit'); p"
   ]
  },
  {
   "cell_type": "code",
   "execution_count": 47,
   "metadata": {},
   "outputs": [],
   "source": [
    "# KNN\n",
    "results_model7 = cross_val_score(model7, X, y, cv=kf)"
   ]
  },
  {
   "cell_type": "code",
   "execution_count": 48,
   "metadata": {},
   "outputs": [
    {
     "data": {
      "text/plain": [
       "1.9073486328125e-06"
      ]
     },
     "execution_count": 48,
     "metadata": {},
     "output_type": "execute_result"
    }
   ],
   "source": [
    "#SVM and KNN\n",
    "stat, p = wilcoxon(results_model1, results_model7,  zero_method='zsplit'); p"
   ]
  },
  {
   "cell_type": "code",
   "execution_count": 49,
   "metadata": {},
   "outputs": [
    {
     "data": {
      "text/plain": [
       "1.9073486328125e-06"
      ]
     },
     "execution_count": 49,
     "metadata": {},
     "output_type": "execute_result"
    }
   ],
   "source": [
    "#RF and KNN\n",
    "stat, p = wilcoxon(results_model2, results_model7,  zero_method='zsplit'); p"
   ]
  },
  {
   "cell_type": "code",
   "execution_count": 50,
   "metadata": {},
   "outputs": [
    {
     "data": {
      "text/plain": [
       "1.9073486328125e-06"
      ]
     },
     "execution_count": 50,
     "metadata": {},
     "output_type": "execute_result"
    }
   ],
   "source": [
    "#ADA and KNN\n",
    "stat, p = wilcoxon(results_model3, results_model7,  zero_method='zsplit'); p"
   ]
  },
  {
   "cell_type": "code",
   "execution_count": 51,
   "metadata": {},
   "outputs": [
    {
     "data": {
      "text/plain": [
       "1.9073486328125e-06"
      ]
     },
     "execution_count": 51,
     "metadata": {},
     "output_type": "execute_result"
    }
   ],
   "source": [
    "#DNN and KNN\n",
    "stat, p = wilcoxon(results_model4, results_model7,  zero_method='zsplit'); p"
   ]
  },
  {
   "cell_type": "code",
   "execution_count": 52,
   "metadata": {},
   "outputs": [
    {
     "name": "stderr",
     "output_type": "stream",
     "text": [
      "/home/oarreche@ads.iu.edu/anaconda3/envs/HITL/lib/python3.6/site-packages/scipy/stats/morestats.py:2957: UserWarning: Exact p-value calculation does not work if there are ties. Switching to normal approximation.\n",
      "  warnings.warn(\"Exact p-value calculation does not work if there are \"\n"
     ]
    },
    {
     "data": {
      "text/plain": [
       "0.6407443182104052"
      ]
     },
     "execution_count": 52,
     "metadata": {},
     "output_type": "execute_result"
    }
   ],
   "source": [
    "#LGBM and KNN\n",
    "stat, p = wilcoxon(results_model5, results_model7,  zero_method='zsplit'); p"
   ]
  },
  {
   "cell_type": "code",
   "execution_count": 53,
   "metadata": {},
   "outputs": [
    {
     "data": {
      "text/plain": [
       "1.9073486328125e-06"
      ]
     },
     "execution_count": 53,
     "metadata": {},
     "output_type": "execute_result"
    }
   ],
   "source": [
    "#MLP and KNN\n",
    "stat, p = wilcoxon(results_model6, results_model7,  zero_method='zsplit'); p"
   ]
  },
  {
   "cell_type": "code",
   "execution_count": null,
   "metadata": {},
   "outputs": [],
   "source": []
  },
  {
   "cell_type": "code",
   "execution_count": null,
   "metadata": {},
   "outputs": [],
   "source": []
  },
  {
   "cell_type": "code",
   "execution_count": null,
   "metadata": {},
   "outputs": [],
   "source": []
  },
  {
   "cell_type": "code",
   "execution_count": null,
   "metadata": {},
   "outputs": [],
   "source": []
  }
 ],
 "metadata": {
  "kernelspec": {
   "display_name": "HITL",
   "language": "python",
   "name": "python3"
  },
  "language_info": {
   "codemirror_mode": {
    "name": "ipython",
    "version": 3
   },
   "file_extension": ".py",
   "mimetype": "text/x-python",
   "name": "python",
   "nbconvert_exporter": "python",
   "pygments_lexer": "ipython3",
   "version": "3.6.15"
  }
 },
 "nbformat": 4,
 "nbformat_minor": 2
}
